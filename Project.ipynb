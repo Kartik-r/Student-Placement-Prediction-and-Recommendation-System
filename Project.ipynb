{
 "cells": [
  {
   "cell_type": "code",
   "execution_count": 1,
   "id": "37010f66",
   "metadata": {},
   "outputs": [],
   "source": [
    "import pandas as pd"
   ]
  },
  {
   "cell_type": "code",
   "execution_count": 2,
   "id": "6d0f8326",
   "metadata": {},
   "outputs": [],
   "source": [
    "data = pd.read_csv('Projectdata2.csv')"
   ]
  },
  {
   "cell_type": "code",
   "execution_count": 3,
   "id": "5678fd30",
   "metadata": {},
   "outputs": [],
   "source": [
    "import warnings"
   ]
  },
  {
   "cell_type": "code",
   "execution_count": 4,
   "id": "69ee3714",
   "metadata": {},
   "outputs": [],
   "source": [
    "warnings.filterwarnings('ignore')"
   ]
  },
  {
   "cell_type": "code",
   "execution_count": 5,
   "id": "fa8be3a5",
   "metadata": {},
   "outputs": [
    {
     "data": {
      "text/html": [
       "<div>\n",
       "<style scoped>\n",
       "    .dataframe tbody tr th:only-of-type {\n",
       "        vertical-align: middle;\n",
       "    }\n",
       "\n",
       "    .dataframe tbody tr th {\n",
       "        vertical-align: top;\n",
       "    }\n",
       "\n",
       "    .dataframe thead th {\n",
       "        text-align: right;\n",
       "    }\n",
       "</style>\n",
       "<table border=\"1\" class=\"dataframe\">\n",
       "  <thead>\n",
       "    <tr style=\"text-align: right;\">\n",
       "      <th></th>\n",
       "      <th>ssc_p</th>\n",
       "      <th>hsc_p</th>\n",
       "      <th>BE_p</th>\n",
       "      <th>Intern</th>\n",
       "      <th>Test_p</th>\n",
       "      <th>Branch</th>\n",
       "      <th>Status</th>\n",
       "    </tr>\n",
       "  </thead>\n",
       "  <tbody>\n",
       "    <tr>\n",
       "      <th>0</th>\n",
       "      <td>75</td>\n",
       "      <td>84</td>\n",
       "      <td>66</td>\n",
       "      <td>Yes</td>\n",
       "      <td>91</td>\n",
       "      <td>CSE</td>\n",
       "      <td>Placed</td>\n",
       "    </tr>\n",
       "    <tr>\n",
       "      <th>1</th>\n",
       "      <td>77</td>\n",
       "      <td>65</td>\n",
       "      <td>88</td>\n",
       "      <td>Yes</td>\n",
       "      <td>86</td>\n",
       "      <td>CSE</td>\n",
       "      <td>Placed</td>\n",
       "    </tr>\n",
       "    <tr>\n",
       "      <th>2</th>\n",
       "      <td>84</td>\n",
       "      <td>87</td>\n",
       "      <td>67</td>\n",
       "      <td>Yes</td>\n",
       "      <td>98</td>\n",
       "      <td>ISE</td>\n",
       "      <td>Placed</td>\n",
       "    </tr>\n",
       "    <tr>\n",
       "      <th>3</th>\n",
       "      <td>90</td>\n",
       "      <td>97</td>\n",
       "      <td>88</td>\n",
       "      <td>Yes</td>\n",
       "      <td>83</td>\n",
       "      <td>ISE</td>\n",
       "      <td>Placed</td>\n",
       "    </tr>\n",
       "    <tr>\n",
       "      <th>4</th>\n",
       "      <td>98</td>\n",
       "      <td>66</td>\n",
       "      <td>68</td>\n",
       "      <td>Yes</td>\n",
       "      <td>97</td>\n",
       "      <td>ECE</td>\n",
       "      <td>Placed</td>\n",
       "    </tr>\n",
       "  </tbody>\n",
       "</table>\n",
       "</div>"
      ],
      "text/plain": [
       "   ssc_p  hsc_p  BE_p Intern  Test_p Branch  Status\n",
       "0     75     84    66    Yes      91    CSE  Placed\n",
       "1     77     65    88    Yes      86    CSE  Placed\n",
       "2     84     87    67    Yes      98    ISE  Placed\n",
       "3     90     97    88    Yes      83    ISE  Placed\n",
       "4     98     66    68    Yes      97    ECE  Placed"
      ]
     },
     "execution_count": 5,
     "metadata": {},
     "output_type": "execute_result"
    }
   ],
   "source": [
    "data.head()"
   ]
  },
  {
   "cell_type": "code",
   "execution_count": 6,
   "id": "5d412f49",
   "metadata": {},
   "outputs": [
    {
     "data": {
      "text/html": [
       "<div>\n",
       "<style scoped>\n",
       "    .dataframe tbody tr th:only-of-type {\n",
       "        vertical-align: middle;\n",
       "    }\n",
       "\n",
       "    .dataframe tbody tr th {\n",
       "        vertical-align: top;\n",
       "    }\n",
       "\n",
       "    .dataframe thead th {\n",
       "        text-align: right;\n",
       "    }\n",
       "</style>\n",
       "<table border=\"1\" class=\"dataframe\">\n",
       "  <thead>\n",
       "    <tr style=\"text-align: right;\">\n",
       "      <th></th>\n",
       "      <th>ssc_p</th>\n",
       "      <th>hsc_p</th>\n",
       "      <th>BE_p</th>\n",
       "      <th>Intern</th>\n",
       "      <th>Test_p</th>\n",
       "      <th>Branch</th>\n",
       "      <th>Status</th>\n",
       "    </tr>\n",
       "  </thead>\n",
       "  <tbody>\n",
       "    <tr>\n",
       "      <th>4994</th>\n",
       "      <td>40</td>\n",
       "      <td>47</td>\n",
       "      <td>10</td>\n",
       "      <td>No</td>\n",
       "      <td>38</td>\n",
       "      <td>MECH</td>\n",
       "      <td>Not Placed</td>\n",
       "    </tr>\n",
       "    <tr>\n",
       "      <th>4995</th>\n",
       "      <td>50</td>\n",
       "      <td>58</td>\n",
       "      <td>22</td>\n",
       "      <td>No</td>\n",
       "      <td>53</td>\n",
       "      <td>MECH</td>\n",
       "      <td>Not Placed</td>\n",
       "    </tr>\n",
       "    <tr>\n",
       "      <th>4996</th>\n",
       "      <td>19</td>\n",
       "      <td>49</td>\n",
       "      <td>57</td>\n",
       "      <td>No</td>\n",
       "      <td>61</td>\n",
       "      <td>EEE</td>\n",
       "      <td>Not Placed</td>\n",
       "    </tr>\n",
       "    <tr>\n",
       "      <th>4997</th>\n",
       "      <td>26</td>\n",
       "      <td>32</td>\n",
       "      <td>12</td>\n",
       "      <td>No</td>\n",
       "      <td>20</td>\n",
       "      <td>CIVIL</td>\n",
       "      <td>Not Placed</td>\n",
       "    </tr>\n",
       "    <tr>\n",
       "      <th>4998</th>\n",
       "      <td>25</td>\n",
       "      <td>24</td>\n",
       "      <td>35</td>\n",
       "      <td>No</td>\n",
       "      <td>34</td>\n",
       "      <td>MECH</td>\n",
       "      <td>Not Placed</td>\n",
       "    </tr>\n",
       "  </tbody>\n",
       "</table>\n",
       "</div>"
      ],
      "text/plain": [
       "      ssc_p  hsc_p  BE_p Intern  Test_p Branch      Status\n",
       "4994     40     47    10     No      38   MECH  Not Placed\n",
       "4995     50     58    22     No      53   MECH  Not Placed\n",
       "4996     19     49    57     No      61    EEE  Not Placed\n",
       "4997     26     32    12     No      20  CIVIL  Not Placed\n",
       "4998     25     24    35     No      34   MECH  Not Placed"
      ]
     },
     "execution_count": 6,
     "metadata": {},
     "output_type": "execute_result"
    }
   ],
   "source": [
    "data.tail()"
   ]
  },
  {
   "cell_type": "code",
   "execution_count": 7,
   "id": "04889636",
   "metadata": {},
   "outputs": [
    {
     "data": {
      "text/plain": [
       "(4999, 7)"
      ]
     },
     "execution_count": 7,
     "metadata": {},
     "output_type": "execute_result"
    }
   ],
   "source": [
    "data.shape"
   ]
  },
  {
   "cell_type": "code",
   "execution_count": 8,
   "id": "366a456a",
   "metadata": {},
   "outputs": [
    {
     "name": "stdout",
     "output_type": "stream",
     "text": [
      "Number of Rows 4999\n",
      "Number of Columns 7\n"
     ]
    }
   ],
   "source": [
    "print(\"Number of Rows\",data.shape[0])\n",
    "print(\"Number of Columns\",data.shape[1])"
   ]
  },
  {
   "cell_type": "code",
   "execution_count": 9,
   "id": "2e01fabe",
   "metadata": {},
   "outputs": [
    {
     "name": "stdout",
     "output_type": "stream",
     "text": [
      "<class 'pandas.core.frame.DataFrame'>\n",
      "RangeIndex: 4999 entries, 0 to 4998\n",
      "Data columns (total 7 columns):\n",
      " #   Column  Non-Null Count  Dtype \n",
      "---  ------  --------------  ----- \n",
      " 0   ssc_p   4999 non-null   int64 \n",
      " 1   hsc_p   4999 non-null   int64 \n",
      " 2   BE_p    4999 non-null   int64 \n",
      " 3   Intern  4999 non-null   object\n",
      " 4   Test_p  4999 non-null   int64 \n",
      " 5   Branch  4999 non-null   object\n",
      " 6   Status  4999 non-null   object\n",
      "dtypes: int64(4), object(3)\n",
      "memory usage: 273.5+ KB\n"
     ]
    }
   ],
   "source": [
    "data.info()"
   ]
  },
  {
   "cell_type": "code",
   "execution_count": 10,
   "id": "9b478286",
   "metadata": {},
   "outputs": [
    {
     "data": {
      "text/plain": [
       "ssc_p     0\n",
       "hsc_p     0\n",
       "BE_p      0\n",
       "Intern    0\n",
       "Test_p    0\n",
       "Branch    0\n",
       "Status    0\n",
       "dtype: int64"
      ]
     },
     "execution_count": 10,
     "metadata": {},
     "output_type": "execute_result"
    }
   ],
   "source": [
    "data.isnull().sum()"
   ]
  },
  {
   "cell_type": "code",
   "execution_count": 11,
   "id": "250eb691",
   "metadata": {},
   "outputs": [
    {
     "data": {
      "text/html": [
       "<div>\n",
       "<style scoped>\n",
       "    .dataframe tbody tr th:only-of-type {\n",
       "        vertical-align: middle;\n",
       "    }\n",
       "\n",
       "    .dataframe tbody tr th {\n",
       "        vertical-align: top;\n",
       "    }\n",
       "\n",
       "    .dataframe thead th {\n",
       "        text-align: right;\n",
       "    }\n",
       "</style>\n",
       "<table border=\"1\" class=\"dataframe\">\n",
       "  <thead>\n",
       "    <tr style=\"text-align: right;\">\n",
       "      <th></th>\n",
       "      <th>ssc_p</th>\n",
       "      <th>hsc_p</th>\n",
       "      <th>BE_p</th>\n",
       "      <th>Test_p</th>\n",
       "    </tr>\n",
       "  </thead>\n",
       "  <tbody>\n",
       "    <tr>\n",
       "      <th>count</th>\n",
       "      <td>4999.000000</td>\n",
       "      <td>4999.000000</td>\n",
       "      <td>4999.000000</td>\n",
       "      <td>4999.000000</td>\n",
       "    </tr>\n",
       "    <tr>\n",
       "      <th>mean</th>\n",
       "      <td>55.743549</td>\n",
       "      <td>58.055611</td>\n",
       "      <td>58.071014</td>\n",
       "      <td>62.079016</td>\n",
       "    </tr>\n",
       "    <tr>\n",
       "      <th>std</th>\n",
       "      <td>27.410363</td>\n",
       "      <td>25.826121</td>\n",
       "      <td>26.186643</td>\n",
       "      <td>26.720231</td>\n",
       "    </tr>\n",
       "    <tr>\n",
       "      <th>min</th>\n",
       "      <td>0.000000</td>\n",
       "      <td>0.000000</td>\n",
       "      <td>0.000000</td>\n",
       "      <td>10.000000</td>\n",
       "    </tr>\n",
       "    <tr>\n",
       "      <th>25%</th>\n",
       "      <td>31.000000</td>\n",
       "      <td>36.000000</td>\n",
       "      <td>35.500000</td>\n",
       "      <td>39.000000</td>\n",
       "    </tr>\n",
       "    <tr>\n",
       "      <th>50%</th>\n",
       "      <td>61.000000</td>\n",
       "      <td>61.000000</td>\n",
       "      <td>61.000000</td>\n",
       "      <td>71.000000</td>\n",
       "    </tr>\n",
       "    <tr>\n",
       "      <th>75%</th>\n",
       "      <td>80.000000</td>\n",
       "      <td>80.000000</td>\n",
       "      <td>81.000000</td>\n",
       "      <td>85.000000</td>\n",
       "    </tr>\n",
       "    <tr>\n",
       "      <th>max</th>\n",
       "      <td>100.000000</td>\n",
       "      <td>100.000000</td>\n",
       "      <td>100.000000</td>\n",
       "      <td>99.000000</td>\n",
       "    </tr>\n",
       "  </tbody>\n",
       "</table>\n",
       "</div>"
      ],
      "text/plain": [
       "             ssc_p        hsc_p         BE_p       Test_p\n",
       "count  4999.000000  4999.000000  4999.000000  4999.000000\n",
       "mean     55.743549    58.055611    58.071014    62.079016\n",
       "std      27.410363    25.826121    26.186643    26.720231\n",
       "min       0.000000     0.000000     0.000000    10.000000\n",
       "25%      31.000000    36.000000    35.500000    39.000000\n",
       "50%      61.000000    61.000000    61.000000    71.000000\n",
       "75%      80.000000    80.000000    81.000000    85.000000\n",
       "max     100.000000   100.000000   100.000000    99.000000"
      ]
     },
     "execution_count": 11,
     "metadata": {},
     "output_type": "execute_result"
    }
   ],
   "source": [
    "data.describe()"
   ]
  },
  {
   "cell_type": "code",
   "execution_count": 12,
   "id": "d30ed444",
   "metadata": {},
   "outputs": [
    {
     "data": {
      "text/plain": [
       "Index(['ssc_p', 'hsc_p', 'BE_p', 'Intern', 'Test_p', 'Branch', 'Status'], dtype='object')"
      ]
     },
     "execution_count": 12,
     "metadata": {},
     "output_type": "execute_result"
    }
   ],
   "source": [
    "data.columns"
   ]
  },
  {
   "cell_type": "code",
   "execution_count": 13,
   "id": "aa4146df",
   "metadata": {},
   "outputs": [
    {
     "data": {
      "text/plain": [
       "array(['Placed', 'Not Placed'], dtype=object)"
      ]
     },
     "execution_count": 13,
     "metadata": {},
     "output_type": "execute_result"
    }
   ],
   "source": [
    "data['Status'].unique()"
   ]
  },
  {
   "cell_type": "code",
   "execution_count": 14,
   "id": "d4f2ee9f",
   "metadata": {},
   "outputs": [
    {
     "data": {
      "text/plain": [
       "Status\n",
       "Placed        2600\n",
       "Not Placed    2399\n",
       "Name: count, dtype: int64"
      ]
     },
     "execution_count": 14,
     "metadata": {},
     "output_type": "execute_result"
    }
   ],
   "source": [
    "data['Status'].value_counts()"
   ]
  },
  {
   "cell_type": "code",
   "execution_count": 15,
   "id": "d64dd5f8",
   "metadata": {},
   "outputs": [
    {
     "data": {
      "text/plain": [
       "Index(['ssc_p', 'hsc_p', 'BE_p', 'Intern', 'Test_p', 'Branch', 'Status'], dtype='object')"
      ]
     },
     "execution_count": 15,
     "metadata": {},
     "output_type": "execute_result"
    }
   ],
   "source": [
    "data.columns"
   ]
  },
  {
   "cell_type": "code",
   "execution_count": 16,
   "id": "83e186f4",
   "metadata": {},
   "outputs": [
    {
     "data": {
      "text/html": [
       "<div>\n",
       "<style scoped>\n",
       "    .dataframe tbody tr th:only-of-type {\n",
       "        vertical-align: middle;\n",
       "    }\n",
       "\n",
       "    .dataframe tbody tr th {\n",
       "        vertical-align: top;\n",
       "    }\n",
       "\n",
       "    .dataframe thead th {\n",
       "        text-align: right;\n",
       "    }\n",
       "</style>\n",
       "<table border=\"1\" class=\"dataframe\">\n",
       "  <thead>\n",
       "    <tr style=\"text-align: right;\">\n",
       "      <th></th>\n",
       "      <th>ssc_p</th>\n",
       "      <th>hsc_p</th>\n",
       "      <th>BE_p</th>\n",
       "      <th>Intern</th>\n",
       "      <th>Test_p</th>\n",
       "      <th>Branch</th>\n",
       "      <th>Status</th>\n",
       "    </tr>\n",
       "  </thead>\n",
       "  <tbody>\n",
       "    <tr>\n",
       "      <th>0</th>\n",
       "      <td>75</td>\n",
       "      <td>84</td>\n",
       "      <td>66</td>\n",
       "      <td>Yes</td>\n",
       "      <td>91</td>\n",
       "      <td>CSE</td>\n",
       "      <td>Placed</td>\n",
       "    </tr>\n",
       "    <tr>\n",
       "      <th>1</th>\n",
       "      <td>77</td>\n",
       "      <td>65</td>\n",
       "      <td>88</td>\n",
       "      <td>Yes</td>\n",
       "      <td>86</td>\n",
       "      <td>CSE</td>\n",
       "      <td>Placed</td>\n",
       "    </tr>\n",
       "    <tr>\n",
       "      <th>2</th>\n",
       "      <td>84</td>\n",
       "      <td>87</td>\n",
       "      <td>67</td>\n",
       "      <td>Yes</td>\n",
       "      <td>98</td>\n",
       "      <td>ISE</td>\n",
       "      <td>Placed</td>\n",
       "    </tr>\n",
       "    <tr>\n",
       "      <th>3</th>\n",
       "      <td>90</td>\n",
       "      <td>97</td>\n",
       "      <td>88</td>\n",
       "      <td>Yes</td>\n",
       "      <td>83</td>\n",
       "      <td>ISE</td>\n",
       "      <td>Placed</td>\n",
       "    </tr>\n",
       "    <tr>\n",
       "      <th>4</th>\n",
       "      <td>98</td>\n",
       "      <td>66</td>\n",
       "      <td>68</td>\n",
       "      <td>Yes</td>\n",
       "      <td>97</td>\n",
       "      <td>ECE</td>\n",
       "      <td>Placed</td>\n",
       "    </tr>\n",
       "  </tbody>\n",
       "</table>\n",
       "</div>"
      ],
      "text/plain": [
       "   ssc_p  hsc_p  BE_p Intern  Test_p Branch  Status\n",
       "0     75     84    66    Yes      91    CSE  Placed\n",
       "1     77     65    88    Yes      86    CSE  Placed\n",
       "2     84     87    67    Yes      98    ISE  Placed\n",
       "3     90     97    88    Yes      83    ISE  Placed\n",
       "4     98     66    68    Yes      97    ECE  Placed"
      ]
     },
     "execution_count": 16,
     "metadata": {},
     "output_type": "execute_result"
    }
   ],
   "source": [
    "data.head()"
   ]
  },
  {
   "cell_type": "code",
   "execution_count": 17,
   "id": "4924dee1",
   "metadata": {},
   "outputs": [
    {
     "data": {
      "text/plain": [
       "array(['CSE', 'ISE', 'ECE', 'CIVIL', 'EEE', 'MECH'], dtype=object)"
      ]
     },
     "execution_count": 17,
     "metadata": {},
     "output_type": "execute_result"
    }
   ],
   "source": [
    "data['Branch'].unique()"
   ]
  },
  {
   "cell_type": "code",
   "execution_count": 18,
   "id": "ce606ed9",
   "metadata": {},
   "outputs": [],
   "source": [
    "data['Branch'] = data['Branch'].map({'CSE':5,'ISE':4,'ECE':3,'EEE':2,'MECH':1,'CIVIL':0})"
   ]
  },
  {
   "cell_type": "code",
   "execution_count": 19,
   "id": "86bea8cf",
   "metadata": {},
   "outputs": [
    {
     "data": {
      "text/html": [
       "<div>\n",
       "<style scoped>\n",
       "    .dataframe tbody tr th:only-of-type {\n",
       "        vertical-align: middle;\n",
       "    }\n",
       "\n",
       "    .dataframe tbody tr th {\n",
       "        vertical-align: top;\n",
       "    }\n",
       "\n",
       "    .dataframe thead th {\n",
       "        text-align: right;\n",
       "    }\n",
       "</style>\n",
       "<table border=\"1\" class=\"dataframe\">\n",
       "  <thead>\n",
       "    <tr style=\"text-align: right;\">\n",
       "      <th></th>\n",
       "      <th>ssc_p</th>\n",
       "      <th>hsc_p</th>\n",
       "      <th>BE_p</th>\n",
       "      <th>Intern</th>\n",
       "      <th>Test_p</th>\n",
       "      <th>Branch</th>\n",
       "      <th>Status</th>\n",
       "    </tr>\n",
       "  </thead>\n",
       "  <tbody>\n",
       "    <tr>\n",
       "      <th>0</th>\n",
       "      <td>75</td>\n",
       "      <td>84</td>\n",
       "      <td>66</td>\n",
       "      <td>Yes</td>\n",
       "      <td>91</td>\n",
       "      <td>5</td>\n",
       "      <td>Placed</td>\n",
       "    </tr>\n",
       "    <tr>\n",
       "      <th>1</th>\n",
       "      <td>77</td>\n",
       "      <td>65</td>\n",
       "      <td>88</td>\n",
       "      <td>Yes</td>\n",
       "      <td>86</td>\n",
       "      <td>5</td>\n",
       "      <td>Placed</td>\n",
       "    </tr>\n",
       "    <tr>\n",
       "      <th>2</th>\n",
       "      <td>84</td>\n",
       "      <td>87</td>\n",
       "      <td>67</td>\n",
       "      <td>Yes</td>\n",
       "      <td>98</td>\n",
       "      <td>4</td>\n",
       "      <td>Placed</td>\n",
       "    </tr>\n",
       "    <tr>\n",
       "      <th>3</th>\n",
       "      <td>90</td>\n",
       "      <td>97</td>\n",
       "      <td>88</td>\n",
       "      <td>Yes</td>\n",
       "      <td>83</td>\n",
       "      <td>4</td>\n",
       "      <td>Placed</td>\n",
       "    </tr>\n",
       "    <tr>\n",
       "      <th>4</th>\n",
       "      <td>98</td>\n",
       "      <td>66</td>\n",
       "      <td>68</td>\n",
       "      <td>Yes</td>\n",
       "      <td>97</td>\n",
       "      <td>3</td>\n",
       "      <td>Placed</td>\n",
       "    </tr>\n",
       "  </tbody>\n",
       "</table>\n",
       "</div>"
      ],
      "text/plain": [
       "   ssc_p  hsc_p  BE_p Intern  Test_p  Branch  Status\n",
       "0     75     84    66    Yes      91       5  Placed\n",
       "1     77     65    88    Yes      86       5  Placed\n",
       "2     84     87    67    Yes      98       4  Placed\n",
       "3     90     97    88    Yes      83       4  Placed\n",
       "4     98     66    68    Yes      97       3  Placed"
      ]
     },
     "execution_count": 19,
     "metadata": {},
     "output_type": "execute_result"
    }
   ],
   "source": [
    "data.head()"
   ]
  },
  {
   "cell_type": "code",
   "execution_count": 20,
   "id": "817d4868",
   "metadata": {},
   "outputs": [
    {
     "data": {
      "text/plain": [
       "array(['Yes', 'No'], dtype=object)"
      ]
     },
     "execution_count": 20,
     "metadata": {},
     "output_type": "execute_result"
    }
   ],
   "source": [
    "data['Intern'].unique()"
   ]
  },
  {
   "cell_type": "code",
   "execution_count": 21,
   "id": "1a474d9a",
   "metadata": {},
   "outputs": [],
   "source": [
    "data['Intern'] = data['Intern'].map({'Yes':1,'No':0})"
   ]
  },
  {
   "cell_type": "code",
   "execution_count": 22,
   "id": "06595892",
   "metadata": {},
   "outputs": [
    {
     "data": {
      "text/html": [
       "<div>\n",
       "<style scoped>\n",
       "    .dataframe tbody tr th:only-of-type {\n",
       "        vertical-align: middle;\n",
       "    }\n",
       "\n",
       "    .dataframe tbody tr th {\n",
       "        vertical-align: top;\n",
       "    }\n",
       "\n",
       "    .dataframe thead th {\n",
       "        text-align: right;\n",
       "    }\n",
       "</style>\n",
       "<table border=\"1\" class=\"dataframe\">\n",
       "  <thead>\n",
       "    <tr style=\"text-align: right;\">\n",
       "      <th></th>\n",
       "      <th>ssc_p</th>\n",
       "      <th>hsc_p</th>\n",
       "      <th>BE_p</th>\n",
       "      <th>Intern</th>\n",
       "      <th>Test_p</th>\n",
       "      <th>Branch</th>\n",
       "      <th>Status</th>\n",
       "    </tr>\n",
       "  </thead>\n",
       "  <tbody>\n",
       "    <tr>\n",
       "      <th>0</th>\n",
       "      <td>75</td>\n",
       "      <td>84</td>\n",
       "      <td>66</td>\n",
       "      <td>1</td>\n",
       "      <td>91</td>\n",
       "      <td>5</td>\n",
       "      <td>Placed</td>\n",
       "    </tr>\n",
       "    <tr>\n",
       "      <th>1</th>\n",
       "      <td>77</td>\n",
       "      <td>65</td>\n",
       "      <td>88</td>\n",
       "      <td>1</td>\n",
       "      <td>86</td>\n",
       "      <td>5</td>\n",
       "      <td>Placed</td>\n",
       "    </tr>\n",
       "  </tbody>\n",
       "</table>\n",
       "</div>"
      ],
      "text/plain": [
       "   ssc_p  hsc_p  BE_p  Intern  Test_p  Branch  Status\n",
       "0     75     84    66       1      91       5  Placed\n",
       "1     77     65    88       1      86       5  Placed"
      ]
     },
     "execution_count": 22,
     "metadata": {},
     "output_type": "execute_result"
    }
   ],
   "source": [
    "data.head(2)"
   ]
  },
  {
   "cell_type": "code",
   "execution_count": 23,
   "id": "b9444a9d",
   "metadata": {},
   "outputs": [
    {
     "data": {
      "text/plain": [
       "array(['Placed', 'Not Placed'], dtype=object)"
      ]
     },
     "execution_count": 23,
     "metadata": {},
     "output_type": "execute_result"
    }
   ],
   "source": [
    "data['Status'].unique()"
   ]
  },
  {
   "cell_type": "code",
   "execution_count": 24,
   "id": "249bb854",
   "metadata": {},
   "outputs": [],
   "source": [
    "data['Status'] = data['Status'].map({'Placed':1,'Not Placed':0})"
   ]
  },
  {
   "cell_type": "code",
   "execution_count": 25,
   "id": "bcd84a5e",
   "metadata": {},
   "outputs": [
    {
     "data": {
      "text/html": [
       "<div>\n",
       "<style scoped>\n",
       "    .dataframe tbody tr th:only-of-type {\n",
       "        vertical-align: middle;\n",
       "    }\n",
       "\n",
       "    .dataframe tbody tr th {\n",
       "        vertical-align: top;\n",
       "    }\n",
       "\n",
       "    .dataframe thead th {\n",
       "        text-align: right;\n",
       "    }\n",
       "</style>\n",
       "<table border=\"1\" class=\"dataframe\">\n",
       "  <thead>\n",
       "    <tr style=\"text-align: right;\">\n",
       "      <th></th>\n",
       "      <th>ssc_p</th>\n",
       "      <th>hsc_p</th>\n",
       "      <th>BE_p</th>\n",
       "      <th>Intern</th>\n",
       "      <th>Test_p</th>\n",
       "      <th>Branch</th>\n",
       "      <th>Status</th>\n",
       "    </tr>\n",
       "  </thead>\n",
       "  <tbody>\n",
       "    <tr>\n",
       "      <th>0</th>\n",
       "      <td>75</td>\n",
       "      <td>84</td>\n",
       "      <td>66</td>\n",
       "      <td>1</td>\n",
       "      <td>91</td>\n",
       "      <td>5</td>\n",
       "      <td>1</td>\n",
       "    </tr>\n",
       "    <tr>\n",
       "      <th>1</th>\n",
       "      <td>77</td>\n",
       "      <td>65</td>\n",
       "      <td>88</td>\n",
       "      <td>1</td>\n",
       "      <td>86</td>\n",
       "      <td>5</td>\n",
       "      <td>1</td>\n",
       "    </tr>\n",
       "    <tr>\n",
       "      <th>2</th>\n",
       "      <td>84</td>\n",
       "      <td>87</td>\n",
       "      <td>67</td>\n",
       "      <td>1</td>\n",
       "      <td>98</td>\n",
       "      <td>4</td>\n",
       "      <td>1</td>\n",
       "    </tr>\n",
       "    <tr>\n",
       "      <th>3</th>\n",
       "      <td>90</td>\n",
       "      <td>97</td>\n",
       "      <td>88</td>\n",
       "      <td>1</td>\n",
       "      <td>83</td>\n",
       "      <td>4</td>\n",
       "      <td>1</td>\n",
       "    </tr>\n",
       "    <tr>\n",
       "      <th>4</th>\n",
       "      <td>98</td>\n",
       "      <td>66</td>\n",
       "      <td>68</td>\n",
       "      <td>1</td>\n",
       "      <td>97</td>\n",
       "      <td>3</td>\n",
       "      <td>1</td>\n",
       "    </tr>\n",
       "  </tbody>\n",
       "</table>\n",
       "</div>"
      ],
      "text/plain": [
       "   ssc_p  hsc_p  BE_p  Intern  Test_p  Branch  Status\n",
       "0     75     84    66       1      91       5       1\n",
       "1     77     65    88       1      86       5       1\n",
       "2     84     87    67       1      98       4       1\n",
       "3     90     97    88       1      83       4       1\n",
       "4     98     66    68       1      97       3       1"
      ]
     },
     "execution_count": 25,
     "metadata": {},
     "output_type": "execute_result"
    }
   ],
   "source": [
    "data.head()"
   ]
  },
  {
   "cell_type": "code",
   "execution_count": 26,
   "id": "3f5fe968",
   "metadata": {},
   "outputs": [
    {
     "data": {
      "text/plain": [
       "Index(['ssc_p', 'hsc_p', 'BE_p', 'Intern', 'Test_p', 'Branch', 'Status'], dtype='object')"
      ]
     },
     "execution_count": 26,
     "metadata": {},
     "output_type": "execute_result"
    }
   ],
   "source": [
    "data.columns"
   ]
  },
  {
   "cell_type": "code",
   "execution_count": 27,
   "id": "a1522262",
   "metadata": {},
   "outputs": [],
   "source": [
    "X = data.drop('Status',axis=1)\n",
    "y= data['Status']"
   ]
  },
  {
   "cell_type": "code",
   "execution_count": 28,
   "id": "b7f7af1a",
   "metadata": {},
   "outputs": [
    {
     "data": {
      "text/plain": [
       "0       1\n",
       "1       1\n",
       "2       1\n",
       "3       1\n",
       "4       1\n",
       "       ..\n",
       "4994    0\n",
       "4995    0\n",
       "4996    0\n",
       "4997    0\n",
       "4998    0\n",
       "Name: Status, Length: 4999, dtype: int64"
      ]
     },
     "execution_count": 28,
     "metadata": {},
     "output_type": "execute_result"
    }
   ],
   "source": [
    "y"
   ]
  },
  {
   "cell_type": "code",
   "execution_count": 29,
   "id": "99d112ca",
   "metadata": {},
   "outputs": [],
   "source": [
    "from sklearn.model_selection import train_test_split"
   ]
  },
  {
   "cell_type": "code",
   "execution_count": 30,
   "id": "cd1397b3",
   "metadata": {},
   "outputs": [],
   "source": [
    "X_train,X_test,y_train,y_test=train_test_split(X,y,test_size=0.20,random_state=42)"
   ]
  },
  {
   "cell_type": "code",
   "execution_count": 31,
   "id": "689008af",
   "metadata": {},
   "outputs": [],
   "source": [
    "from sklearn.linear_model import LogisticRegression\n",
    "from sklearn.neighbors import KNeighborsClassifier\n",
    "from sklearn import svm\n",
    "from sklearn.tree import DecisionTreeClassifier\n",
    "from sklearn.ensemble import RandomForestClassifier"
   ]
  },
  {
   "cell_type": "code",
   "execution_count": 32,
   "id": "e876b95d",
   "metadata": {},
   "outputs": [
    {
     "data": {
      "text/html": [
       "<style>#sk-container-id-1 {color: black;background-color: white;}#sk-container-id-1 pre{padding: 0;}#sk-container-id-1 div.sk-toggleable {background-color: white;}#sk-container-id-1 label.sk-toggleable__label {cursor: pointer;display: block;width: 100%;margin-bottom: 0;padding: 0.3em;box-sizing: border-box;text-align: center;}#sk-container-id-1 label.sk-toggleable__label-arrow:before {content: \"▸\";float: left;margin-right: 0.25em;color: #696969;}#sk-container-id-1 label.sk-toggleable__label-arrow:hover:before {color: black;}#sk-container-id-1 div.sk-estimator:hover label.sk-toggleable__label-arrow:before {color: black;}#sk-container-id-1 div.sk-toggleable__content {max-height: 0;max-width: 0;overflow: hidden;text-align: left;background-color: #f0f8ff;}#sk-container-id-1 div.sk-toggleable__content pre {margin: 0.2em;color: black;border-radius: 0.25em;background-color: #f0f8ff;}#sk-container-id-1 input.sk-toggleable__control:checked~div.sk-toggleable__content {max-height: 200px;max-width: 100%;overflow: auto;}#sk-container-id-1 input.sk-toggleable__control:checked~label.sk-toggleable__label-arrow:before {content: \"▾\";}#sk-container-id-1 div.sk-estimator input.sk-toggleable__control:checked~label.sk-toggleable__label {background-color: #d4ebff;}#sk-container-id-1 div.sk-label input.sk-toggleable__control:checked~label.sk-toggleable__label {background-color: #d4ebff;}#sk-container-id-1 input.sk-hidden--visually {border: 0;clip: rect(1px 1px 1px 1px);clip: rect(1px, 1px, 1px, 1px);height: 1px;margin: -1px;overflow: hidden;padding: 0;position: absolute;width: 1px;}#sk-container-id-1 div.sk-estimator {font-family: monospace;background-color: #f0f8ff;border: 1px dotted black;border-radius: 0.25em;box-sizing: border-box;margin-bottom: 0.5em;}#sk-container-id-1 div.sk-estimator:hover {background-color: #d4ebff;}#sk-container-id-1 div.sk-parallel-item::after {content: \"\";width: 100%;border-bottom: 1px solid gray;flex-grow: 1;}#sk-container-id-1 div.sk-label:hover label.sk-toggleable__label {background-color: #d4ebff;}#sk-container-id-1 div.sk-serial::before {content: \"\";position: absolute;border-left: 1px solid gray;box-sizing: border-box;top: 0;bottom: 0;left: 50%;z-index: 0;}#sk-container-id-1 div.sk-serial {display: flex;flex-direction: column;align-items: center;background-color: white;padding-right: 0.2em;padding-left: 0.2em;position: relative;}#sk-container-id-1 div.sk-item {position: relative;z-index: 1;}#sk-container-id-1 div.sk-parallel {display: flex;align-items: stretch;justify-content: center;background-color: white;position: relative;}#sk-container-id-1 div.sk-item::before, #sk-container-id-1 div.sk-parallel-item::before {content: \"\";position: absolute;border-left: 1px solid gray;box-sizing: border-box;top: 0;bottom: 0;left: 50%;z-index: -1;}#sk-container-id-1 div.sk-parallel-item {display: flex;flex-direction: column;z-index: 1;position: relative;background-color: white;}#sk-container-id-1 div.sk-parallel-item:first-child::after {align-self: flex-end;width: 50%;}#sk-container-id-1 div.sk-parallel-item:last-child::after {align-self: flex-start;width: 50%;}#sk-container-id-1 div.sk-parallel-item:only-child::after {width: 0;}#sk-container-id-1 div.sk-dashed-wrapped {border: 1px dashed gray;margin: 0 0.4em 0.5em 0.4em;box-sizing: border-box;padding-bottom: 0.4em;background-color: white;}#sk-container-id-1 div.sk-label label {font-family: monospace;font-weight: bold;display: inline-block;line-height: 1.2em;}#sk-container-id-1 div.sk-label-container {text-align: center;}#sk-container-id-1 div.sk-container {/* jupyter's `normalize.less` sets `[hidden] { display: none; }` but bootstrap.min.css set `[hidden] { display: none !important; }` so we also need the `!important` here to be able to override the default hidden behavior on the sphinx rendered scikit-learn.org. See: https://github.com/scikit-learn/scikit-learn/issues/21755 */display: inline-block !important;position: relative;}#sk-container-id-1 div.sk-text-repr-fallback {display: none;}</style><div id=\"sk-container-id-1\" class=\"sk-top-container\"><div class=\"sk-text-repr-fallback\"><pre>RandomForestClassifier()</pre><b>In a Jupyter environment, please rerun this cell to show the HTML representation or trust the notebook. <br />On GitHub, the HTML representation is unable to render, please try loading this page with nbviewer.org.</b></div><div class=\"sk-container\" hidden><div class=\"sk-item\"><div class=\"sk-estimator sk-toggleable\"><input class=\"sk-toggleable__control sk-hidden--visually\" id=\"sk-estimator-id-1\" type=\"checkbox\" checked><label for=\"sk-estimator-id-1\" class=\"sk-toggleable__label sk-toggleable__label-arrow\">RandomForestClassifier</label><div class=\"sk-toggleable__content\"><pre>RandomForestClassifier()</pre></div></div></div></div></div>"
      ],
      "text/plain": [
       "RandomForestClassifier()"
      ]
     },
     "execution_count": 32,
     "metadata": {},
     "output_type": "execute_result"
    }
   ],
   "source": [
    "lr = LogisticRegression()\n",
    "lr.fit(X_train,y_train)\n",
    "\n",
    "svm = svm.SVC()\n",
    "svm.fit(X_train,y_train)\n",
    "\n",
    "knn=KNeighborsClassifier()\n",
    "knn.fit(X_train,y_train)\n",
    "\n",
    "dt=DecisionTreeClassifier()\n",
    "dt.fit(X_train,y_train)\n",
    "\n",
    "rf=RandomForestClassifier()\n",
    "rf.fit(X_train,y_train)\n"
   ]
  },
  {
   "cell_type": "code",
   "execution_count": 33,
   "id": "b6daeec6",
   "metadata": {},
   "outputs": [],
   "source": [
    "y_pred1 = lr.predict(X_test)\n",
    "y_pred2 = svm.predict(X_test)\n",
    "y_pred3 = knn.predict(X_test)\n",
    "y_pred4 = dt.predict(X_test)\n",
    "y_pred5 = rf.predict(X_test)"
   ]
  },
  {
   "cell_type": "code",
   "execution_count": 34,
   "id": "86b2fd9d",
   "metadata": {},
   "outputs": [],
   "source": [
    "import matplotlib as plt\n",
    "from sklearn.metrics import accuracy_score"
   ]
  },
  {
   "cell_type": "code",
   "execution_count": 35,
   "id": "215387cc",
   "metadata": {},
   "outputs": [],
   "source": [
    "score1=accuracy_score(y_test,y_pred1)\n",
    "score2=accuracy_score(y_test,y_pred2)\n",
    "score3=accuracy_score(y_test,y_pred3)\n",
    "score4=accuracy_score(y_test,y_pred4)\n",
    "score5=accuracy_score(y_test,y_pred5)"
   ]
  },
  {
   "cell_type": "code",
   "execution_count": 36,
   "id": "1a97f986",
   "metadata": {},
   "outputs": [
    {
     "name": "stdout",
     "output_type": "stream",
     "text": [
      "0.999 0.999 0.999 0.999 0.999\n"
     ]
    }
   ],
   "source": [
    "print(score1,score2,score3,score4,score5)"
   ]
  },
  {
   "cell_type": "code",
   "execution_count": 37,
   "id": "a297b270",
   "metadata": {},
   "outputs": [],
   "source": [
    "final_data = pd.DataFrame({'Models':['LR','SVC','KNN','DT','RF'],\n",
    "            'ACC':[score1*100,\n",
    "                  score2*100,\n",
    "                  score3*100,\n",
    "                  score4*100,\n",
    "                  score5*100]})"
   ]
  },
  {
   "cell_type": "code",
   "execution_count": 38,
   "id": "45150b95",
   "metadata": {},
   "outputs": [
    {
     "data": {
      "text/html": [
       "<div>\n",
       "<style scoped>\n",
       "    .dataframe tbody tr th:only-of-type {\n",
       "        vertical-align: middle;\n",
       "    }\n",
       "\n",
       "    .dataframe tbody tr th {\n",
       "        vertical-align: top;\n",
       "    }\n",
       "\n",
       "    .dataframe thead th {\n",
       "        text-align: right;\n",
       "    }\n",
       "</style>\n",
       "<table border=\"1\" class=\"dataframe\">\n",
       "  <thead>\n",
       "    <tr style=\"text-align: right;\">\n",
       "      <th></th>\n",
       "      <th>Models</th>\n",
       "      <th>ACC</th>\n",
       "    </tr>\n",
       "  </thead>\n",
       "  <tbody>\n",
       "    <tr>\n",
       "      <th>0</th>\n",
       "      <td>LR</td>\n",
       "      <td>99.9</td>\n",
       "    </tr>\n",
       "    <tr>\n",
       "      <th>1</th>\n",
       "      <td>SVC</td>\n",
       "      <td>99.9</td>\n",
       "    </tr>\n",
       "    <tr>\n",
       "      <th>2</th>\n",
       "      <td>KNN</td>\n",
       "      <td>99.9</td>\n",
       "    </tr>\n",
       "    <tr>\n",
       "      <th>3</th>\n",
       "      <td>DT</td>\n",
       "      <td>99.9</td>\n",
       "    </tr>\n",
       "    <tr>\n",
       "      <th>4</th>\n",
       "      <td>RF</td>\n",
       "      <td>99.9</td>\n",
       "    </tr>\n",
       "  </tbody>\n",
       "</table>\n",
       "</div>"
      ],
      "text/plain": [
       "  Models   ACC\n",
       "0     LR  99.9\n",
       "1    SVC  99.9\n",
       "2    KNN  99.9\n",
       "3     DT  99.9\n",
       "4     RF  99.9"
      ]
     },
     "execution_count": 38,
     "metadata": {},
     "output_type": "execute_result"
    }
   ],
   "source": [
    "final_data"
   ]
  },
  {
   "cell_type": "code",
   "execution_count": 39,
   "id": "07afeb6d",
   "metadata": {},
   "outputs": [],
   "source": [
    "import seaborn as sns"
   ]
  },
  {
   "cell_type": "code",
   "execution_count": 40,
   "id": "8f161abe",
   "metadata": {},
   "outputs": [
    {
     "data": {
      "text/plain": [
       "<Axes: xlabel='Models', ylabel='ACC'>"
      ]
     },
     "execution_count": 40,
     "metadata": {},
     "output_type": "execute_result"
    },
    {
     "data": {
      "image/png": "[encoded data removed]",
      "text/plain": [
       "<Figure size 640x480 with 1 Axes>"
      ]
     },
     "metadata": {},
     "output_type": "display_data"
    }
   ],
   "source": [
    "sns.barplot(x='Models', y='ACC', data=final_data)"
   ]
  },
  {
   "cell_type": "code",
   "execution_count": 41,
   "id": "684351e1",
   "metadata": {
    "scrolled": true
   },
   "outputs": [],
   "source": [
    "corr=data.corr()"
   ]
  },
  {
   "cell_type": "code",
   "execution_count": 42,
   "id": "9c222a8a",
   "metadata": {},
   "outputs": [
    {
     "data": {
      "text/html": [
       "<style type=\"text/css\">\n",
       "#T_b5978_row0_col0, #T_b5978_row1_col1, #T_b5978_row2_col2, #T_b5978_row3_col3, #T_b5978_row4_col4, #T_b5978_row5_col5, #T_b5978_row6_col6 {\n",
       "  background-color: #b40426;\n",
       "  color: #f1f1f1;\n",
       "}\n",
       "#T_b5978_row0_col1 {\n",
       "  background-color: #6687ed;\n",
       "  color: #f1f1f1;\n",
       "}\n",
       "#T_b5978_row0_col2 {\n",
       "  background-color: #5977e3;\n",
       "  color: #f1f1f1;\n",
       "}\n",
       "#T_b5978_row0_col3 {\n",
       "  background-color: #8fb1fe;\n",
       "  color: #000000;\n",
       "}\n",
       "#T_b5978_row0_col4 {\n",
       "  background-color: #6282ea;\n",
       "  color: #f1f1f1;\n",
       "}\n",
       "#T_b5978_row0_col5 {\n",
       "  background-color: #6485ec;\n",
       "  color: #f1f1f1;\n",
       "}\n",
       "#T_b5978_row0_col6 {\n",
       "  background-color: #97b8ff;\n",
       "  color: #000000;\n",
       "}\n",
       "#T_b5978_row1_col0 {\n",
       "  background-color: #4358cb;\n",
       "  color: #f1f1f1;\n",
       "}\n",
       "#T_b5978_row1_col2, #T_b5978_row1_col3, #T_b5978_row1_col4, #T_b5978_row1_col5, #T_b5978_row1_col6, #T_b5978_row2_col0, #T_b5978_row5_col1 {\n",
       "  background-color: #3b4cc0;\n",
       "  color: #f1f1f1;\n",
       "}\n",
       "#T_b5978_row2_col1, #T_b5978_row5_col2 {\n",
       "  background-color: #3f53c6;\n",
       "  color: #f1f1f1;\n",
       "}\n",
       "#T_b5978_row2_col3, #T_b5978_row4_col2 {\n",
       "  background-color: #3d50c3;\n",
       "  color: #f1f1f1;\n",
       "}\n",
       "#T_b5978_row2_col4, #T_b5978_row2_col6 {\n",
       "  background-color: #3c4ec2;\n",
       "  color: #f1f1f1;\n",
       "}\n",
       "#T_b5978_row2_col5, #T_b5978_row4_col0, #T_b5978_row4_col5 {\n",
       "  background-color: #455cce;\n",
       "  color: #f1f1f1;\n",
       "}\n",
       "#T_b5978_row3_col0 {\n",
       "  background-color: #e7d7ce;\n",
       "  color: #000000;\n",
       "}\n",
       "#T_b5978_row3_col1 {\n",
       "  background-color: #d1dae9;\n",
       "  color: #000000;\n",
       "}\n",
       "#T_b5978_row3_col2 {\n",
       "  background-color: #cedaeb;\n",
       "  color: #000000;\n",
       "}\n",
       "#T_b5978_row3_col4 {\n",
       "  background-color: #d4dbe6;\n",
       "  color: #000000;\n",
       "}\n",
       "#T_b5978_row3_col5 {\n",
       "  background-color: #dbdcde;\n",
       "  color: #000000;\n",
       "}\n",
       "#T_b5978_row3_col6, #T_b5978_row6_col3 {\n",
       "  background-color: #cd423b;\n",
       "  color: #f1f1f1;\n",
       "}\n",
       "#T_b5978_row4_col1 {\n",
       "  background-color: #4257c9;\n",
       "  color: #f1f1f1;\n",
       "}\n",
       "#T_b5978_row4_col3 {\n",
       "  background-color: #485fd1;\n",
       "  color: #f1f1f1;\n",
       "}\n",
       "#T_b5978_row4_col6 {\n",
       "  background-color: #5673e0;\n",
       "  color: #f1f1f1;\n",
       "}\n",
       "#T_b5978_row5_col0 {\n",
       "  background-color: #4055c8;\n",
       "  color: #f1f1f1;\n",
       "}\n",
       "#T_b5978_row5_col3 {\n",
       "  background-color: #506bda;\n",
       "  color: #f1f1f1;\n",
       "}\n",
       "#T_b5978_row5_col4, #T_b5978_row5_col6 {\n",
       "  background-color: #3e51c5;\n",
       "  color: #f1f1f1;\n",
       "}\n",
       "#T_b5978_row6_col0 {\n",
       "  background-color: #ead5c9;\n",
       "  color: #000000;\n",
       "}\n",
       "#T_b5978_row6_col1 {\n",
       "  background-color: #cfdaea;\n",
       "  color: #000000;\n",
       "}\n",
       "#T_b5978_row6_col2 {\n",
       "  background-color: #cdd9ec;\n",
       "  color: #000000;\n",
       "}\n",
       "#T_b5978_row6_col4 {\n",
       "  background-color: #dadce0;\n",
       "  color: #000000;\n",
       "}\n",
       "#T_b5978_row6_col5 {\n",
       "  background-color: #d2dbe8;\n",
       "  color: #000000;\n",
       "}\n",
       "</style>\n",
       "<table id=\"T_b5978\">\n",
       "  <thead>\n",
       "    <tr>\n",
       "      <th class=\"blank level0\" >&nbsp;</th>\n",
       "      <th id=\"T_b5978_level0_col0\" class=\"col_heading level0 col0\" >ssc_p</th>\n",
       "      <th id=\"T_b5978_level0_col1\" class=\"col_heading level0 col1\" >hsc_p</th>\n",
       "      <th id=\"T_b5978_level0_col2\" class=\"col_heading level0 col2\" >BE_p</th>\n",
       "      <th id=\"T_b5978_level0_col3\" class=\"col_heading level0 col3\" >Intern</th>\n",
       "      <th id=\"T_b5978_level0_col4\" class=\"col_heading level0 col4\" >Test_p</th>\n",
       "      <th id=\"T_b5978_level0_col5\" class=\"col_heading level0 col5\" >Branch</th>\n",
       "      <th id=\"T_b5978_level0_col6\" class=\"col_heading level0 col6\" >Status</th>\n",
       "    </tr>\n",
       "  </thead>\n",
       "  <tbody>\n",
       "    <tr>\n",
       "      <th id=\"T_b5978_level0_row0\" class=\"row_heading level0 row0\" >ssc_p</th>\n",
       "      <td id=\"T_b5978_row0_col0\" class=\"data row0 col0\" >1.000000</td>\n",
       "      <td id=\"T_b5978_row0_col1\" class=\"data row0 col1\" >0.787661</td>\n",
       "      <td id=\"T_b5978_row0_col2\" class=\"data row0 col2\" >0.781690</td>\n",
       "      <td id=\"T_b5978_row0_col3\" class=\"data row0 col3\" >0.899713</td>\n",
       "      <td id=\"T_b5978_row0_col4\" class=\"data row0 col4\" >0.789631</td>\n",
       "      <td id=\"T_b5978_row0_col5\" class=\"data row0 col5\" >0.786782</td>\n",
       "      <td id=\"T_b5978_row0_col6\" class=\"data row0 col6\" >0.902262</td>\n",
       "    </tr>\n",
       "    <tr>\n",
       "      <th id=\"T_b5978_level0_row1\" class=\"row_heading level0 row1\" >hsc_p</th>\n",
       "      <td id=\"T_b5978_row1_col0\" class=\"data row1 col0\" >0.787661</td>\n",
       "      <td id=\"T_b5978_row1_col1\" class=\"data row1 col1\" >1.000000</td>\n",
       "      <td id=\"T_b5978_row1_col2\" class=\"data row1 col2\" >0.757877</td>\n",
       "      <td id=\"T_b5978_row1_col3\" class=\"data row1 col3\" >0.865450</td>\n",
       "      <td id=\"T_b5978_row1_col4\" class=\"data row1 col4\" >0.759019</td>\n",
       "      <td id=\"T_b5978_row1_col5\" class=\"data row1 col5\" >0.753172</td>\n",
       "      <td id=\"T_b5978_row1_col6\" class=\"data row1 col6\" >0.864478</td>\n",
       "    </tr>\n",
       "    <tr>\n",
       "      <th id=\"T_b5978_level0_row2\" class=\"row_heading level0 row2\" >BE_p</th>\n",
       "      <td id=\"T_b5978_row2_col0\" class=\"data row2 col0\" >0.781690</td>\n",
       "      <td id=\"T_b5978_row2_col1\" class=\"data row2 col1\" >0.757877</td>\n",
       "      <td id=\"T_b5978_row2_col2\" class=\"data row2 col2\" >1.000000</td>\n",
       "      <td id=\"T_b5978_row2_col3\" class=\"data row2 col3\" >0.866594</td>\n",
       "      <td id=\"T_b5978_row2_col4\" class=\"data row2 col4\" >0.760581</td>\n",
       "      <td id=\"T_b5978_row2_col5\" class=\"data row2 col5\" >0.762517</td>\n",
       "      <td id=\"T_b5978_row2_col6\" class=\"data row2 col6\" >0.865528</td>\n",
       "    </tr>\n",
       "    <tr>\n",
       "      <th id=\"T_b5978_level0_row3\" class=\"row_heading level0 row3\" >Intern</th>\n",
       "      <td id=\"T_b5978_row3_col0\" class=\"data row3 col0\" >0.899713</td>\n",
       "      <td id=\"T_b5978_row3_col1\" class=\"data row3 col1\" >0.865450</td>\n",
       "      <td id=\"T_b5978_row3_col2\" class=\"data row3 col2\" >0.866594</td>\n",
       "      <td id=\"T_b5978_row3_col3\" class=\"data row3 col3\" >1.000000</td>\n",
       "      <td id=\"T_b5978_row3_col4\" class=\"data row3 col4\" >0.871247</td>\n",
       "      <td id=\"T_b5978_row3_col5\" class=\"data row3 col5\" >0.875085</td>\n",
       "      <td id=\"T_b5978_row3_col6\" class=\"data row3 col6\" >0.990383</td>\n",
       "    </tr>\n",
       "    <tr>\n",
       "      <th id=\"T_b5978_level0_row4\" class=\"row_heading level0 row4\" >Test_p</th>\n",
       "      <td id=\"T_b5978_row4_col0\" class=\"data row4 col0\" >0.789631</td>\n",
       "      <td id=\"T_b5978_row4_col1\" class=\"data row4 col1\" >0.759019</td>\n",
       "      <td id=\"T_b5978_row4_col2\" class=\"data row4 col2\" >0.760581</td>\n",
       "      <td id=\"T_b5978_row4_col3\" class=\"data row4 col3\" >0.871247</td>\n",
       "      <td id=\"T_b5978_row4_col4\" class=\"data row4 col4\" >1.000000</td>\n",
       "      <td id=\"T_b5978_row4_col5\" class=\"data row4 col5\" >0.762531</td>\n",
       "      <td id=\"T_b5978_row4_col6\" class=\"data row4 col6\" >0.876901</td>\n",
       "    </tr>\n",
       "    <tr>\n",
       "      <th id=\"T_b5978_level0_row5\" class=\"row_heading level0 row5\" >Branch</th>\n",
       "      <td id=\"T_b5978_row5_col0\" class=\"data row5 col0\" >0.786782</td>\n",
       "      <td id=\"T_b5978_row5_col1\" class=\"data row5 col1\" >0.753172</td>\n",
       "      <td id=\"T_b5978_row5_col2\" class=\"data row5 col2\" >0.762517</td>\n",
       "      <td id=\"T_b5978_row5_col3\" class=\"data row5 col3\" >0.875085</td>\n",
       "      <td id=\"T_b5978_row5_col4\" class=\"data row5 col4\" >0.762531</td>\n",
       "      <td id=\"T_b5978_row5_col5\" class=\"data row5 col5\" >1.000000</td>\n",
       "      <td id=\"T_b5978_row5_col6\" class=\"data row5 col6\" >0.866398</td>\n",
       "    </tr>\n",
       "    <tr>\n",
       "      <th id=\"T_b5978_level0_row6\" class=\"row_heading level0 row6\" >Status</th>\n",
       "      <td id=\"T_b5978_row6_col0\" class=\"data row6 col0\" >0.902262</td>\n",
       "      <td id=\"T_b5978_row6_col1\" class=\"data row6 col1\" >0.864478</td>\n",
       "      <td id=\"T_b5978_row6_col2\" class=\"data row6 col2\" >0.865528</td>\n",
       "      <td id=\"T_b5978_row6_col3\" class=\"data row6 col3\" >0.990383</td>\n",
       "      <td id=\"T_b5978_row6_col4\" class=\"data row6 col4\" >0.876901</td>\n",
       "      <td id=\"T_b5978_row6_col5\" class=\"data row6 col5\" >0.866398</td>\n",
       "      <td id=\"T_b5978_row6_col6\" class=\"data row6 col6\" >1.000000</td>\n",
       "    </tr>\n",
       "  </tbody>\n",
       "</table>\n"
      ],
      "text/plain": [
       "<pandas.io.formats.style.Styler at 0x20044fb6ad0>"
      ]
     },
     "execution_count": 42,
     "metadata": {},
     "output_type": "execute_result"
    }
   ],
   "source": [
    "corr.style.background_gradient(cmap=\\\n",
    "                               'coolwarm')"
   ]
  },
  {
   "cell_type": "code",
   "execution_count": 43,
   "id": "45c2558b",
   "metadata": {},
   "outputs": [
    {
     "data": {
      "text/plain": [
       "<Axes: >"
      ]
     },
     "execution_count": 43,
     "metadata": {},
     "output_type": "execute_result"
    },
    {
     "data": {
      "image/png": "[encoded data removed]",
      "text/plain": [
       "<Figure size 640x480 with 2 Axes>"
      ]
     },
     "metadata": {},
     "output_type": "display_data"
    }
   ],
   "source": [
    "corr = data.corr()\n",
    "sns.heatmap(corr, annot=True)"
   ]
  },
  {
   "cell_type": "code",
   "execution_count": 44,
   "id": "45b13c89",
   "metadata": {},
   "outputs": [],
   "source": [
    "new_data = pd.DataFrame({\n",
    "    'ssc_p':70.00,\n",
    "    'hsc_p':80.00,\n",
    "    'BE_p':60.00,\n",
    "    'Intern':1,\n",
    "    'Test_p':70,\n",
    "    'Branch':5,\n",
    "},index=[0])"
   ]
  },
  {
   "cell_type": "code",
   "execution_count": 45,
   "id": "38c1a8b2",
   "metadata": {},
   "outputs": [
    {
     "data": {
      "text/html": [
       "<style>#sk-container-id-2 {color: black;background-color: white;}#sk-container-id-2 pre{padding: 0;}#sk-container-id-2 div.sk-toggleable {background-color: white;}#sk-container-id-2 label.sk-toggleable__label {cursor: pointer;display: block;width: 100%;margin-bottom: 0;padding: 0.3em;box-sizing: border-box;text-align: center;}#sk-container-id-2 label.sk-toggleable__label-arrow:before {content: \"▸\";float: left;margin-right: 0.25em;color: #696969;}#sk-container-id-2 label.sk-toggleable__label-arrow:hover:before {color: black;}#sk-container-id-2 div.sk-estimator:hover label.sk-toggleable__label-arrow:before {color: black;}#sk-container-id-2 div.sk-toggleable__content {max-height: 0;max-width: 0;overflow: hidden;text-align: left;background-color: #f0f8ff;}#sk-container-id-2 div.sk-toggleable__content pre {margin: 0.2em;color: black;border-radius: 0.25em;background-color: #f0f8ff;}#sk-container-id-2 input.sk-toggleable__control:checked~div.sk-toggleable__content {max-height: 200px;max-width: 100%;overflow: auto;}#sk-container-id-2 input.sk-toggleable__control:checked~label.sk-toggleable__label-arrow:before {content: \"▾\";}#sk-container-id-2 div.sk-estimator input.sk-toggleable__control:checked~label.sk-toggleable__label {background-color: #d4ebff;}#sk-container-id-2 div.sk-label input.sk-toggleable__control:checked~label.sk-toggleable__label {background-color: #d4ebff;}#sk-container-id-2 input.sk-hidden--visually {border: 0;clip: rect(1px 1px 1px 1px);clip: rect(1px, 1px, 1px, 1px);height: 1px;margin: -1px;overflow: hidden;padding: 0;position: absolute;width: 1px;}#sk-container-id-2 div.sk-estimator {font-family: monospace;background-color: #f0f8ff;border: 1px dotted black;border-radius: 0.25em;box-sizing: border-box;margin-bottom: 0.5em;}#sk-container-id-2 div.sk-estimator:hover {background-color: #d4ebff;}#sk-container-id-2 div.sk-parallel-item::after {content: \"\";width: 100%;border-bottom: 1px solid gray;flex-grow: 1;}#sk-container-id-2 div.sk-label:hover label.sk-toggleable__label {background-color: #d4ebff;}#sk-container-id-2 div.sk-serial::before {content: \"\";position: absolute;border-left: 1px solid gray;box-sizing: border-box;top: 0;bottom: 0;left: 50%;z-index: 0;}#sk-container-id-2 div.sk-serial {display: flex;flex-direction: column;align-items: center;background-color: white;padding-right: 0.2em;padding-left: 0.2em;position: relative;}#sk-container-id-2 div.sk-item {position: relative;z-index: 1;}#sk-container-id-2 div.sk-parallel {display: flex;align-items: stretch;justify-content: center;background-color: white;position: relative;}#sk-container-id-2 div.sk-item::before, #sk-container-id-2 div.sk-parallel-item::before {content: \"\";position: absolute;border-left: 1px solid gray;box-sizing: border-box;top: 0;bottom: 0;left: 50%;z-index: -1;}#sk-container-id-2 div.sk-parallel-item {display: flex;flex-direction: column;z-index: 1;position: relative;background-color: white;}#sk-container-id-2 div.sk-parallel-item:first-child::after {align-self: flex-end;width: 50%;}#sk-container-id-2 div.sk-parallel-item:last-child::after {align-self: flex-start;width: 50%;}#sk-container-id-2 div.sk-parallel-item:only-child::after {width: 0;}#sk-container-id-2 div.sk-dashed-wrapped {border: 1px dashed gray;margin: 0 0.4em 0.5em 0.4em;box-sizing: border-box;padding-bottom: 0.4em;background-color: white;}#sk-container-id-2 div.sk-label label {font-family: monospace;font-weight: bold;display: inline-block;line-height: 1.2em;}#sk-container-id-2 div.sk-label-container {text-align: center;}#sk-container-id-2 div.sk-container {/* jupyter's `normalize.less` sets `[hidden] { display: none; }` but bootstrap.min.css set `[hidden] { display: none !important; }` so we also need the `!important` here to be able to override the default hidden behavior on the sphinx rendered scikit-learn.org. See: https://github.com/scikit-learn/scikit-learn/issues/21755 */display: inline-block !important;position: relative;}#sk-container-id-2 div.sk-text-repr-fallback {display: none;}</style><div id=\"sk-container-id-2\" class=\"sk-top-container\"><div class=\"sk-text-repr-fallback\"><pre>LogisticRegression()</pre><b>In a Jupyter environment, please rerun this cell to show the HTML representation or trust the notebook. <br />On GitHub, the HTML representation is unable to render, please try loading this page with nbviewer.org.</b></div><div class=\"sk-container\" hidden><div class=\"sk-item\"><div class=\"sk-estimator sk-toggleable\"><input class=\"sk-toggleable__control sk-hidden--visually\" id=\"sk-estimator-id-2\" type=\"checkbox\" checked><label for=\"sk-estimator-id-2\" class=\"sk-toggleable__label sk-toggleable__label-arrow\">LogisticRegression</label><div class=\"sk-toggleable__content\"><pre>LogisticRegression()</pre></div></div></div></div></div>"
      ],
      "text/plain": [
       "LogisticRegression()"
      ]
     },
     "execution_count": 45,
     "metadata": {},
     "output_type": "execute_result"
    }
   ],
   "source": [
    "lr= LogisticRegression()\n",
    "lr.fit(X,y)"
   ]
  },
  {
   "cell_type": "code",
   "execution_count": 46,
   "id": "d1bdcf45",
   "metadata": {},
   "outputs": [
    {
     "name": "stdout",
     "output_type": "stream",
     "text": [
      "Placed\n",
      "You will be placed with probability of 1.00\n"
     ]
    }
   ],
   "source": [
    "p=lr.predict(new_data)\n",
    "prob=lr.predict_proba(new_data)\n",
    "if p==1:\n",
    "    print('Placed')\n",
    "    print(f\"You will be placed with probability of {prob[0][1]:.2f}\")\n",
    "else:\n",
    "    print(\"Can't be placed\")"
   ]
  },
  {
   "cell_type": "code",
   "execution_count": 47,
   "id": "0da43c0c",
   "metadata": {},
   "outputs": [
    {
     "data": {
      "text/plain": [
       "array([[1.29356212e-06, 9.99998706e-01]])"
      ]
     },
     "execution_count": 47,
     "metadata": {},
     "output_type": "execute_result"
    }
   ],
   "source": [
    "prob"
   ]
  },
  {
   "cell_type": "code",
   "execution_count": 48,
   "id": "9a78d829",
   "metadata": {},
   "outputs": [],
   "source": [
    "import joblib"
   ]
  },
  {
   "cell_type": "code",
   "execution_count": 49,
   "id": "67e4a6a3",
   "metadata": {},
   "outputs": [
    {
     "data": {
      "text/plain": [
       "['model_final']"
      ]
     },
     "execution_count": 49,
     "metadata": {},
     "output_type": "execute_result"
    }
   ],
   "source": [
    "joblib.dump(lr,'model_final')"
   ]
  },
  {
   "cell_type": "code",
   "execution_count": 50,
   "id": "94c8ec61",
   "metadata": {},
   "outputs": [],
   "source": [
    "model = joblib.load('model_final')"
   ]
  },
  {
   "cell_type": "code",
   "execution_count": 51,
   "id": "5386bbcf",
   "metadata": {},
   "outputs": [
    {
     "data": {
      "text/plain": [
       "array([1], dtype=int64)"
      ]
     },
     "execution_count": 51,
     "metadata": {},
     "output_type": "execute_result"
    }
   ],
   "source": [
    "model.predict(new_data)"
   ]
  },
  {
   "cell_type": "code",
   "execution_count": 52,
   "id": "552bc343",
   "metadata": {},
   "outputs": [],
   "source": [
    "# Recommendation Part\n",
    "import numpy as np\n",
    "import pandas as pd\n",
    "import warnings \n",
    "warnings.filterwarnings('ignore')\n",
    "\n",
    "import matplotlib.pyplot as plt\n",
    "import statsmodels.api as sm\n",
    "import seaborn as sns\n",
    "sns.set()\n",
    "from sklearn.cluster import KMeans"
   ]
  },
  {
   "cell_type": "code",
   "execution_count": 53,
   "id": "695eadc4",
   "metadata": {},
   "outputs": [],
   "source": [
    "df=pd.read_csv(\"company.csv\")"
   ]
  },
  {
   "cell_type": "code",
   "execution_count": 54,
   "id": "264d775e",
   "metadata": {},
   "outputs": [
    {
     "data": {
      "text/html": [
       "<div>\n",
       "<style scoped>\n",
       "    .dataframe tbody tr th:only-of-type {\n",
       "        vertical-align: middle;\n",
       "    }\n",
       "\n",
       "    .dataframe tbody tr th {\n",
       "        vertical-align: top;\n",
       "    }\n",
       "\n",
       "    .dataframe thead th {\n",
       "        text-align: right;\n",
       "    }\n",
       "</style>\n",
       "<table border=\"1\" class=\"dataframe\">\n",
       "  <thead>\n",
       "    <tr style=\"text-align: right;\">\n",
       "      <th></th>\n",
       "      <th>Company</th>\n",
       "      <th>ssc_p</th>\n",
       "      <th>hsc_p</th>\n",
       "      <th>BE_p</th>\n",
       "      <th>Test_p</th>\n",
       "    </tr>\n",
       "  </thead>\n",
       "  <tbody>\n",
       "    <tr>\n",
       "      <th>0</th>\n",
       "      <td>Microsoft</td>\n",
       "      <td>75</td>\n",
       "      <td>75</td>\n",
       "      <td>85</td>\n",
       "      <td>85</td>\n",
       "    </tr>\n",
       "    <tr>\n",
       "      <th>1</th>\n",
       "      <td>Wipro</td>\n",
       "      <td>60</td>\n",
       "      <td>70</td>\n",
       "      <td>70</td>\n",
       "      <td>75</td>\n",
       "    </tr>\n",
       "    <tr>\n",
       "      <th>2</th>\n",
       "      <td>TCS</td>\n",
       "      <td>60</td>\n",
       "      <td>65</td>\n",
       "      <td>70</td>\n",
       "      <td>70</td>\n",
       "    </tr>\n",
       "    <tr>\n",
       "      <th>3</th>\n",
       "      <td>Apple</td>\n",
       "      <td>80</td>\n",
       "      <td>80</td>\n",
       "      <td>75</td>\n",
       "      <td>90</td>\n",
       "    </tr>\n",
       "    <tr>\n",
       "      <th>4</th>\n",
       "      <td>Google</td>\n",
       "      <td>80</td>\n",
       "      <td>80</td>\n",
       "      <td>85</td>\n",
       "      <td>90</td>\n",
       "    </tr>\n",
       "  </tbody>\n",
       "</table>\n",
       "</div>"
      ],
      "text/plain": [
       "     Company  ssc_p  hsc_p  BE_p  Test_p\n",
       "0  Microsoft     75     75    85      85\n",
       "1      Wipro     60     70    70      75\n",
       "2        TCS     60     65    70      70\n",
       "3      Apple     80     80    75      90\n",
       "4     Google     80     80    85      90"
      ]
     },
     "execution_count": 54,
     "metadata": {},
     "output_type": "execute_result"
    }
   ],
   "source": [
    "df.head()"
   ]
  },
  {
   "cell_type": "code",
   "execution_count": 55,
   "id": "e6dad598",
   "metadata": {},
   "outputs": [
    {
     "data": {
      "text/html": [
       "<div>\n",
       "<style scoped>\n",
       "    .dataframe tbody tr th:only-of-type {\n",
       "        vertical-align: middle;\n",
       "    }\n",
       "\n",
       "    .dataframe tbody tr th {\n",
       "        vertical-align: top;\n",
       "    }\n",
       "\n",
       "    .dataframe thead th {\n",
       "        text-align: right;\n",
       "    }\n",
       "</style>\n",
       "<table border=\"1\" class=\"dataframe\">\n",
       "  <thead>\n",
       "    <tr style=\"text-align: right;\">\n",
       "      <th></th>\n",
       "      <th>Company</th>\n",
       "      <th>ssc_p</th>\n",
       "      <th>hsc_p</th>\n",
       "      <th>BE_p</th>\n",
       "      <th>Test_p</th>\n",
       "    </tr>\n",
       "  </thead>\n",
       "  <tbody>\n",
       "    <tr>\n",
       "      <th>25</th>\n",
       "      <td>IBM</td>\n",
       "      <td>60</td>\n",
       "      <td>60</td>\n",
       "      <td>70</td>\n",
       "      <td>75</td>\n",
       "    </tr>\n",
       "    <tr>\n",
       "      <th>26</th>\n",
       "      <td>Mphasis</td>\n",
       "      <td>60</td>\n",
       "      <td>60</td>\n",
       "      <td>65</td>\n",
       "      <td>65</td>\n",
       "    </tr>\n",
       "    <tr>\n",
       "      <th>27</th>\n",
       "      <td>Dropbox</td>\n",
       "      <td>65</td>\n",
       "      <td>65</td>\n",
       "      <td>70</td>\n",
       "      <td>75</td>\n",
       "    </tr>\n",
       "    <tr>\n",
       "      <th>28</th>\n",
       "      <td>Flipkart</td>\n",
       "      <td>70</td>\n",
       "      <td>70</td>\n",
       "      <td>75</td>\n",
       "      <td>70</td>\n",
       "    </tr>\n",
       "    <tr>\n",
       "      <th>29</th>\n",
       "      <td>PayPal</td>\n",
       "      <td>70</td>\n",
       "      <td>70</td>\n",
       "      <td>70</td>\n",
       "      <td>85</td>\n",
       "    </tr>\n",
       "  </tbody>\n",
       "</table>\n",
       "</div>"
      ],
      "text/plain": [
       "     Company  ssc_p  hsc_p  BE_p  Test_p\n",
       "25       IBM     60     60    70      75\n",
       "26   Mphasis     60     60    65      65\n",
       "27   Dropbox     65     65    70      75\n",
       "28  Flipkart     70     70    75      70\n",
       "29    PayPal     70     70    70      85"
      ]
     },
     "execution_count": 55,
     "metadata": {},
     "output_type": "execute_result"
    }
   ],
   "source": [
    "df.tail()"
   ]
  },
  {
   "cell_type": "code",
   "execution_count": 56,
   "id": "5e15bc84",
   "metadata": {},
   "outputs": [
    {
     "data": {
      "text/plain": [
       "(30, 5)"
      ]
     },
     "execution_count": 56,
     "metadata": {},
     "output_type": "execute_result"
    }
   ],
   "source": [
    "df.shape"
   ]
  },
  {
   "cell_type": "code",
   "execution_count": 57,
   "id": "fb63f1f3",
   "metadata": {},
   "outputs": [
    {
     "name": "stdout",
     "output_type": "stream",
     "text": [
      "<class 'pandas.core.frame.DataFrame'>\n",
      "RangeIndex: 30 entries, 0 to 29\n",
      "Data columns (total 5 columns):\n",
      " #   Column   Non-Null Count  Dtype \n",
      "---  ------   --------------  ----- \n",
      " 0   Company  30 non-null     object\n",
      " 1   ssc_p    30 non-null     int64 \n",
      " 2   hsc_p    30 non-null     int64 \n",
      " 3   BE_p     30 non-null     int64 \n",
      " 4   Test_p   30 non-null     int64 \n",
      "dtypes: int64(4), object(1)\n",
      "memory usage: 1.3+ KB\n"
     ]
    }
   ],
   "source": [
    "df.info()"
   ]
  },
  {
   "cell_type": "code",
   "execution_count": 58,
   "id": "f46f094e",
   "metadata": {},
   "outputs": [
    {
     "name": "stdout",
     "output_type": "stream",
     "text": [
      "0    Microsoft\n",
      "1        Wipro\n",
      "2          TCS\n",
      "3        Apple\n",
      "4       Google\n",
      "Name: Company, dtype: object\n"
     ]
    }
   ],
   "source": [
    "print(df.Company.head())"
   ]
  },
  {
   "cell_type": "code",
   "execution_count": 59,
   "id": "8838369a",
   "metadata": {},
   "outputs": [
    {
     "data": {
      "text/html": [
       "<div>\n",
       "<style scoped>\n",
       "    .dataframe tbody tr th:only-of-type {\n",
       "        vertical-align: middle;\n",
       "    }\n",
       "\n",
       "    .dataframe tbody tr th {\n",
       "        vertical-align: top;\n",
       "    }\n",
       "\n",
       "    .dataframe thead th {\n",
       "        text-align: right;\n",
       "    }\n",
       "</style>\n",
       "<table border=\"1\" class=\"dataframe\">\n",
       "  <thead>\n",
       "    <tr style=\"text-align: right;\">\n",
       "      <th></th>\n",
       "      <th>Test_p</th>\n",
       "      <th>BE_p</th>\n",
       "      <th>hsc_p</th>\n",
       "      <th>ssc_p</th>\n",
       "    </tr>\n",
       "  </thead>\n",
       "  <tbody>\n",
       "    <tr>\n",
       "      <th>0</th>\n",
       "      <td>85</td>\n",
       "      <td>85</td>\n",
       "      <td>75</td>\n",
       "      <td>75</td>\n",
       "    </tr>\n",
       "    <tr>\n",
       "      <th>1</th>\n",
       "      <td>75</td>\n",
       "      <td>70</td>\n",
       "      <td>70</td>\n",
       "      <td>60</td>\n",
       "    </tr>\n",
       "    <tr>\n",
       "      <th>2</th>\n",
       "      <td>70</td>\n",
       "      <td>70</td>\n",
       "      <td>65</td>\n",
       "      <td>60</td>\n",
       "    </tr>\n",
       "    <tr>\n",
       "      <th>3</th>\n",
       "      <td>90</td>\n",
       "      <td>75</td>\n",
       "      <td>80</td>\n",
       "      <td>80</td>\n",
       "    </tr>\n",
       "    <tr>\n",
       "      <th>4</th>\n",
       "      <td>90</td>\n",
       "      <td>85</td>\n",
       "      <td>80</td>\n",
       "      <td>80</td>\n",
       "    </tr>\n",
       "    <tr>\n",
       "      <th>5</th>\n",
       "      <td>70</td>\n",
       "      <td>75</td>\n",
       "      <td>75</td>\n",
       "      <td>70</td>\n",
       "    </tr>\n",
       "    <tr>\n",
       "      <th>6</th>\n",
       "      <td>80</td>\n",
       "      <td>75</td>\n",
       "      <td>75</td>\n",
       "      <td>70</td>\n",
       "    </tr>\n",
       "    <tr>\n",
       "      <th>7</th>\n",
       "      <td>70</td>\n",
       "      <td>70</td>\n",
       "      <td>65</td>\n",
       "      <td>60</td>\n",
       "    </tr>\n",
       "    <tr>\n",
       "      <th>8</th>\n",
       "      <td>75</td>\n",
       "      <td>75</td>\n",
       "      <td>60</td>\n",
       "      <td>60</td>\n",
       "    </tr>\n",
       "    <tr>\n",
       "      <th>9</th>\n",
       "      <td>80</td>\n",
       "      <td>75</td>\n",
       "      <td>75</td>\n",
       "      <td>70</td>\n",
       "    </tr>\n",
       "    <tr>\n",
       "      <th>10</th>\n",
       "      <td>75</td>\n",
       "      <td>70</td>\n",
       "      <td>60</td>\n",
       "      <td>60</td>\n",
       "    </tr>\n",
       "    <tr>\n",
       "      <th>11</th>\n",
       "      <td>75</td>\n",
       "      <td>70</td>\n",
       "      <td>65</td>\n",
       "      <td>65</td>\n",
       "    </tr>\n",
       "    <tr>\n",
       "      <th>12</th>\n",
       "      <td>75</td>\n",
       "      <td>75</td>\n",
       "      <td>65</td>\n",
       "      <td>60</td>\n",
       "    </tr>\n",
       "    <tr>\n",
       "      <th>13</th>\n",
       "      <td>70</td>\n",
       "      <td>75</td>\n",
       "      <td>70</td>\n",
       "      <td>70</td>\n",
       "    </tr>\n",
       "    <tr>\n",
       "      <th>14</th>\n",
       "      <td>85</td>\n",
       "      <td>80</td>\n",
       "      <td>75</td>\n",
       "      <td>75</td>\n",
       "    </tr>\n",
       "    <tr>\n",
       "      <th>15</th>\n",
       "      <td>80</td>\n",
       "      <td>70</td>\n",
       "      <td>70</td>\n",
       "      <td>70</td>\n",
       "    </tr>\n",
       "    <tr>\n",
       "      <th>16</th>\n",
       "      <td>80</td>\n",
       "      <td>70</td>\n",
       "      <td>60</td>\n",
       "      <td>60</td>\n",
       "    </tr>\n",
       "    <tr>\n",
       "      <th>17</th>\n",
       "      <td>75</td>\n",
       "      <td>65</td>\n",
       "      <td>60</td>\n",
       "      <td>60</td>\n",
       "    </tr>\n",
       "    <tr>\n",
       "      <th>18</th>\n",
       "      <td>80</td>\n",
       "      <td>75</td>\n",
       "      <td>75</td>\n",
       "      <td>70</td>\n",
       "    </tr>\n",
       "    <tr>\n",
       "      <th>19</th>\n",
       "      <td>75</td>\n",
       "      <td>75</td>\n",
       "      <td>75</td>\n",
       "      <td>70</td>\n",
       "    </tr>\n",
       "    <tr>\n",
       "      <th>20</th>\n",
       "      <td>85</td>\n",
       "      <td>75</td>\n",
       "      <td>70</td>\n",
       "      <td>70</td>\n",
       "    </tr>\n",
       "    <tr>\n",
       "      <th>21</th>\n",
       "      <td>75</td>\n",
       "      <td>80</td>\n",
       "      <td>75</td>\n",
       "      <td>75</td>\n",
       "    </tr>\n",
       "    <tr>\n",
       "      <th>22</th>\n",
       "      <td>70</td>\n",
       "      <td>70</td>\n",
       "      <td>60</td>\n",
       "      <td>60</td>\n",
       "    </tr>\n",
       "    <tr>\n",
       "      <th>23</th>\n",
       "      <td>70</td>\n",
       "      <td>70</td>\n",
       "      <td>65</td>\n",
       "      <td>65</td>\n",
       "    </tr>\n",
       "    <tr>\n",
       "      <th>24</th>\n",
       "      <td>75</td>\n",
       "      <td>75</td>\n",
       "      <td>70</td>\n",
       "      <td>70</td>\n",
       "    </tr>\n",
       "    <tr>\n",
       "      <th>25</th>\n",
       "      <td>75</td>\n",
       "      <td>70</td>\n",
       "      <td>60</td>\n",
       "      <td>60</td>\n",
       "    </tr>\n",
       "    <tr>\n",
       "      <th>26</th>\n",
       "      <td>65</td>\n",
       "      <td>65</td>\n",
       "      <td>60</td>\n",
       "      <td>60</td>\n",
       "    </tr>\n",
       "    <tr>\n",
       "      <th>27</th>\n",
       "      <td>75</td>\n",
       "      <td>70</td>\n",
       "      <td>65</td>\n",
       "      <td>65</td>\n",
       "    </tr>\n",
       "    <tr>\n",
       "      <th>28</th>\n",
       "      <td>70</td>\n",
       "      <td>75</td>\n",
       "      <td>70</td>\n",
       "      <td>70</td>\n",
       "    </tr>\n",
       "    <tr>\n",
       "      <th>29</th>\n",
       "      <td>85</td>\n",
       "      <td>70</td>\n",
       "      <td>70</td>\n",
       "      <td>70</td>\n",
       "    </tr>\n",
       "  </tbody>\n",
       "</table>\n",
       "</div>"
      ],
      "text/plain": [
       "    Test_p  BE_p  hsc_p  ssc_p\n",
       "0       85    85     75     75\n",
       "1       75    70     70     60\n",
       "2       70    70     65     60\n",
       "3       90    75     80     80\n",
       "4       90    85     80     80\n",
       "5       70    75     75     70\n",
       "6       80    75     75     70\n",
       "7       70    70     65     60\n",
       "8       75    75     60     60\n",
       "9       80    75     75     70\n",
       "10      75    70     60     60\n",
       "11      75    70     65     65\n",
       "12      75    75     65     60\n",
       "13      70    75     70     70\n",
       "14      85    80     75     75\n",
       "15      80    70     70     70\n",
       "16      80    70     60     60\n",
       "17      75    65     60     60\n",
       "18      80    75     75     70\n",
       "19      75    75     75     70\n",
       "20      85    75     70     70\n",
       "21      75    80     75     75\n",
       "22      70    70     60     60\n",
       "23      70    70     65     65\n",
       "24      75    75     70     70\n",
       "25      75    70     60     60\n",
       "26      65    65     60     60\n",
       "27      75    70     65     65\n",
       "28      70    75     70     70\n",
       "29      85    70     70     70"
      ]
     },
     "execution_count": 59,
     "metadata": {},
     "output_type": "execute_result"
    }
   ],
   "source": [
    "l2=df.iloc[:,-1:-5:-1]\n",
    "l2"
   ]
  },
  {
   "cell_type": "code",
   "execution_count": 60,
   "id": "020b603a",
   "metadata": {},
   "outputs": [
    {
     "data": {
      "text/plain": [
       "[2,\n",
       " 3,\n",
       " 3,\n",
       " 2,\n",
       " 2,\n",
       " 0,\n",
       " 4,\n",
       " 3,\n",
       " 1,\n",
       " 4,\n",
       " 1,\n",
       " 3,\n",
       " 3,\n",
       " 0,\n",
       " 2,\n",
       " 4,\n",
       " 1,\n",
       " 1,\n",
       " 4,\n",
       " 0,\n",
       " 4,\n",
       " 0,\n",
       " 3,\n",
       " 3,\n",
       " 0,\n",
       " 1,\n",
       " 3,\n",
       " 3,\n",
       " 0,\n",
       " 4]"
      ]
     },
     "execution_count": 60,
     "metadata": {},
     "output_type": "execute_result"
    }
   ],
   "source": [
    "kmeans=KMeans(5)\n",
    "kmeans.fit(l2)\n",
    "identified_clusters=kmeans.fit_predict(l2)\n",
    "identified_clusters=list(identified_clusters)\n",
    "identified_clusters"
   ]
  },
  {
   "cell_type": "code",
   "execution_count": 61,
   "id": "648bb748",
   "metadata": {},
   "outputs": [
    {
     "data": {
      "text/html": [
       "<div>\n",
       "<style scoped>\n",
       "    .dataframe tbody tr th:only-of-type {\n",
       "        vertical-align: middle;\n",
       "    }\n",
       "\n",
       "    .dataframe tbody tr th {\n",
       "        vertical-align: top;\n",
       "    }\n",
       "\n",
       "    .dataframe thead th {\n",
       "        text-align: right;\n",
       "    }\n",
       "</style>\n",
       "<table border=\"1\" class=\"dataframe\">\n",
       "  <thead>\n",
       "    <tr style=\"text-align: right;\">\n",
       "      <th></th>\n",
       "      <th>Company</th>\n",
       "      <th>ssc_p</th>\n",
       "      <th>hsc_p</th>\n",
       "      <th>BE_p</th>\n",
       "      <th>Test_p</th>\n",
       "      <th>loc_cluster</th>\n",
       "    </tr>\n",
       "  </thead>\n",
       "  <tbody>\n",
       "    <tr>\n",
       "      <th>0</th>\n",
       "      <td>Microsoft</td>\n",
       "      <td>75</td>\n",
       "      <td>75</td>\n",
       "      <td>85</td>\n",
       "      <td>85</td>\n",
       "      <td>2</td>\n",
       "    </tr>\n",
       "    <tr>\n",
       "      <th>1</th>\n",
       "      <td>Wipro</td>\n",
       "      <td>60</td>\n",
       "      <td>70</td>\n",
       "      <td>70</td>\n",
       "      <td>75</td>\n",
       "      <td>3</td>\n",
       "    </tr>\n",
       "    <tr>\n",
       "      <th>2</th>\n",
       "      <td>TCS</td>\n",
       "      <td>60</td>\n",
       "      <td>65</td>\n",
       "      <td>70</td>\n",
       "      <td>70</td>\n",
       "      <td>3</td>\n",
       "    </tr>\n",
       "    <tr>\n",
       "      <th>3</th>\n",
       "      <td>Apple</td>\n",
       "      <td>80</td>\n",
       "      <td>80</td>\n",
       "      <td>75</td>\n",
       "      <td>90</td>\n",
       "      <td>2</td>\n",
       "    </tr>\n",
       "    <tr>\n",
       "      <th>4</th>\n",
       "      <td>Google</td>\n",
       "      <td>80</td>\n",
       "      <td>80</td>\n",
       "      <td>85</td>\n",
       "      <td>90</td>\n",
       "      <td>2</td>\n",
       "    </tr>\n",
       "    <tr>\n",
       "      <th>5</th>\n",
       "      <td>Upgrad</td>\n",
       "      <td>70</td>\n",
       "      <td>75</td>\n",
       "      <td>75</td>\n",
       "      <td>70</td>\n",
       "      <td>0</td>\n",
       "    </tr>\n",
       "    <tr>\n",
       "      <th>6</th>\n",
       "      <td>Dell</td>\n",
       "      <td>70</td>\n",
       "      <td>75</td>\n",
       "      <td>75</td>\n",
       "      <td>80</td>\n",
       "      <td>4</td>\n",
       "    </tr>\n",
       "    <tr>\n",
       "      <th>7</th>\n",
       "      <td>Cognizant</td>\n",
       "      <td>60</td>\n",
       "      <td>65</td>\n",
       "      <td>70</td>\n",
       "      <td>70</td>\n",
       "      <td>3</td>\n",
       "    </tr>\n",
       "    <tr>\n",
       "      <th>8</th>\n",
       "      <td>Capegemini</td>\n",
       "      <td>60</td>\n",
       "      <td>60</td>\n",
       "      <td>75</td>\n",
       "      <td>75</td>\n",
       "      <td>1</td>\n",
       "    </tr>\n",
       "    <tr>\n",
       "      <th>9</th>\n",
       "      <td>Amazon</td>\n",
       "      <td>70</td>\n",
       "      <td>75</td>\n",
       "      <td>75</td>\n",
       "      <td>80</td>\n",
       "      <td>4</td>\n",
       "    </tr>\n",
       "    <tr>\n",
       "      <th>10</th>\n",
       "      <td>Upgrad</td>\n",
       "      <td>60</td>\n",
       "      <td>60</td>\n",
       "      <td>70</td>\n",
       "      <td>75</td>\n",
       "      <td>1</td>\n",
       "    </tr>\n",
       "    <tr>\n",
       "      <th>11</th>\n",
       "      <td>HP</td>\n",
       "      <td>65</td>\n",
       "      <td>65</td>\n",
       "      <td>70</td>\n",
       "      <td>75</td>\n",
       "      <td>3</td>\n",
       "    </tr>\n",
       "    <tr>\n",
       "      <th>12</th>\n",
       "      <td>HCL</td>\n",
       "      <td>60</td>\n",
       "      <td>65</td>\n",
       "      <td>75</td>\n",
       "      <td>75</td>\n",
       "      <td>3</td>\n",
       "    </tr>\n",
       "    <tr>\n",
       "      <th>13</th>\n",
       "      <td>EY</td>\n",
       "      <td>70</td>\n",
       "      <td>70</td>\n",
       "      <td>75</td>\n",
       "      <td>70</td>\n",
       "      <td>0</td>\n",
       "    </tr>\n",
       "    <tr>\n",
       "      <th>14</th>\n",
       "      <td>Juspay</td>\n",
       "      <td>75</td>\n",
       "      <td>75</td>\n",
       "      <td>80</td>\n",
       "      <td>85</td>\n",
       "      <td>2</td>\n",
       "    </tr>\n",
       "    <tr>\n",
       "      <th>15</th>\n",
       "      <td>MindTree</td>\n",
       "      <td>70</td>\n",
       "      <td>70</td>\n",
       "      <td>70</td>\n",
       "      <td>80</td>\n",
       "      <td>4</td>\n",
       "    </tr>\n",
       "    <tr>\n",
       "      <th>16</th>\n",
       "      <td>Tech Mahindra</td>\n",
       "      <td>60</td>\n",
       "      <td>60</td>\n",
       "      <td>70</td>\n",
       "      <td>80</td>\n",
       "      <td>1</td>\n",
       "    </tr>\n",
       "    <tr>\n",
       "      <th>17</th>\n",
       "      <td>Infosys</td>\n",
       "      <td>60</td>\n",
       "      <td>60</td>\n",
       "      <td>65</td>\n",
       "      <td>75</td>\n",
       "      <td>1</td>\n",
       "    </tr>\n",
       "    <tr>\n",
       "      <th>18</th>\n",
       "      <td>Adobe</td>\n",
       "      <td>70</td>\n",
       "      <td>75</td>\n",
       "      <td>75</td>\n",
       "      <td>80</td>\n",
       "      <td>4</td>\n",
       "    </tr>\n",
       "    <tr>\n",
       "      <th>19</th>\n",
       "      <td>Intel</td>\n",
       "      <td>70</td>\n",
       "      <td>75</td>\n",
       "      <td>75</td>\n",
       "      <td>75</td>\n",
       "      <td>0</td>\n",
       "    </tr>\n",
       "    <tr>\n",
       "      <th>20</th>\n",
       "      <td>Oracle</td>\n",
       "      <td>70</td>\n",
       "      <td>70</td>\n",
       "      <td>75</td>\n",
       "      <td>85</td>\n",
       "      <td>4</td>\n",
       "    </tr>\n",
       "    <tr>\n",
       "      <th>21</th>\n",
       "      <td>Flipkart</td>\n",
       "      <td>75</td>\n",
       "      <td>75</td>\n",
       "      <td>80</td>\n",
       "      <td>75</td>\n",
       "      <td>0</td>\n",
       "    </tr>\n",
       "    <tr>\n",
       "      <th>22</th>\n",
       "      <td>Deloitte</td>\n",
       "      <td>60</td>\n",
       "      <td>60</td>\n",
       "      <td>70</td>\n",
       "      <td>70</td>\n",
       "      <td>3</td>\n",
       "    </tr>\n",
       "    <tr>\n",
       "      <th>23</th>\n",
       "      <td>Accenture</td>\n",
       "      <td>65</td>\n",
       "      <td>65</td>\n",
       "      <td>70</td>\n",
       "      <td>70</td>\n",
       "      <td>3</td>\n",
       "    </tr>\n",
       "    <tr>\n",
       "      <th>24</th>\n",
       "      <td>L&amp;T</td>\n",
       "      <td>70</td>\n",
       "      <td>70</td>\n",
       "      <td>75</td>\n",
       "      <td>75</td>\n",
       "      <td>0</td>\n",
       "    </tr>\n",
       "    <tr>\n",
       "      <th>25</th>\n",
       "      <td>IBM</td>\n",
       "      <td>60</td>\n",
       "      <td>60</td>\n",
       "      <td>70</td>\n",
       "      <td>75</td>\n",
       "      <td>1</td>\n",
       "    </tr>\n",
       "    <tr>\n",
       "      <th>26</th>\n",
       "      <td>Mphasis</td>\n",
       "      <td>60</td>\n",
       "      <td>60</td>\n",
       "      <td>65</td>\n",
       "      <td>65</td>\n",
       "      <td>3</td>\n",
       "    </tr>\n",
       "    <tr>\n",
       "      <th>27</th>\n",
       "      <td>Dropbox</td>\n",
       "      <td>65</td>\n",
       "      <td>65</td>\n",
       "      <td>70</td>\n",
       "      <td>75</td>\n",
       "      <td>3</td>\n",
       "    </tr>\n",
       "    <tr>\n",
       "      <th>28</th>\n",
       "      <td>Flipkart</td>\n",
       "      <td>70</td>\n",
       "      <td>70</td>\n",
       "      <td>75</td>\n",
       "      <td>70</td>\n",
       "      <td>0</td>\n",
       "    </tr>\n",
       "    <tr>\n",
       "      <th>29</th>\n",
       "      <td>PayPal</td>\n",
       "      <td>70</td>\n",
       "      <td>70</td>\n",
       "      <td>70</td>\n",
       "      <td>85</td>\n",
       "      <td>4</td>\n",
       "    </tr>\n",
       "  </tbody>\n",
       "</table>\n",
       "</div>"
      ],
      "text/plain": [
       "          Company  ssc_p  hsc_p  BE_p  Test_p  loc_cluster\n",
       "0       Microsoft     75     75    85      85            2\n",
       "1           Wipro     60     70    70      75            3\n",
       "2             TCS     60     65    70      70            3\n",
       "3           Apple     80     80    75      90            2\n",
       "4          Google     80     80    85      90            2\n",
       "5          Upgrad     70     75    75      70            0\n",
       "6            Dell     70     75    75      80            4\n",
       "7       Cognizant     60     65    70      70            3\n",
       "8      Capegemini     60     60    75      75            1\n",
       "9          Amazon     70     75    75      80            4\n",
       "10         Upgrad     60     60    70      75            1\n",
       "11             HP     65     65    70      75            3\n",
       "12            HCL     60     65    75      75            3\n",
       "13             EY     70     70    75      70            0\n",
       "14         Juspay     75     75    80      85            2\n",
       "15       MindTree     70     70    70      80            4\n",
       "16  Tech Mahindra     60     60    70      80            1\n",
       "17        Infosys     60     60    65      75            1\n",
       "18          Adobe     70     75    75      80            4\n",
       "19          Intel     70     75    75      75            0\n",
       "20         Oracle     70     70    75      85            4\n",
       "21       Flipkart     75     75    80      75            0\n",
       "22       Deloitte     60     60    70      70            3\n",
       "23      Accenture     65     65    70      70            3\n",
       "24            L&T     70     70    75      75            0\n",
       "25            IBM     60     60    70      75            1\n",
       "26        Mphasis     60     60    65      65            3\n",
       "27        Dropbox     65     65    70      75            3\n",
       "28       Flipkart     70     70    75      70            0\n",
       "29         PayPal     70     70    70      85            4"
      ]
     },
     "execution_count": 61,
     "metadata": {},
     "output_type": "execute_result"
    }
   ],
   "source": [
    "df['loc_cluster']=identified_clusters\n",
    "df"
   ]
  },
  {
   "cell_type": "code",
   "execution_count": null,
   "id": "73f37caa",
   "metadata": {},
   "outputs": [],
   "source": [
    "# GUI Part\n",
    "from tkinter import *\n",
    "import joblib\n",
    "import numpy as np\n",
    "from sklearn import *\n",
    "import tkinter.font as font\n",
    "import pandas as pd\n",
    "from tkinter import messagebox as tkMessageBox\n",
    "import tkinter as tk\n",
    "\n",
    "\n",
    "def clicked():\n",
    "    tkMessageBox.showerror(\"Warning!\", \"Please Enter Correct Values\\nEnter percentage value between 0 to 100\\nAll Fields are Mandatory\")\n",
    "\n",
    "root = Tk()\n",
    "root.geometry('400x200+300+200')\n",
    "l=tk.Label(root, text=\"Final Year Project\", relief='ridge', border=10, font=\"Times 24\", fg = \"white\", bg=\"firebrick1\")\n",
    "l.pack(side=TOP)\n",
    "l1=tk.Label(root, text=\"Team Members:\\n1. Kartikey Rai (1DB19CS066)\\n2. Kumar Krishna (1DB19CS074)\\n3. Pranjali (1DB19CS105)\", font=\"Times\", justify= LEFT)\n",
    "l1.pack(pady=0)\n",
    "button = Button(root, text = \"Click Here for Instructions\", command = clicked, bg='navy blue', fg='white', font=('Times'))\n",
    "button.pack()\n",
    "button.place(x=115, y=150)\n",
    "root.mainloop()\n",
    "    \n",
    "\n",
    "def show_entry_fields():\n",
    "    \n",
    "# validation\n",
    "    p1 =int(e1.get())\n",
    "    p2= int(e2.get())\n",
    "    p3= int(e3.get())\n",
    "    p6= int(e6.get())\n",
    "    textbox=Text(master)\n",
    "    if (p1<0 or p2<0 or p3<0 or p6<0):\n",
    "        tk.messagebox.showerror('Invalid Message Alert',\"Negative values not allowed!\")\n",
    "    elif (p1>100 or p2>100 or p3> 100 or p6>100):\n",
    "        tk.messagebox.showerror('Invalid Message Alert',\"Enter Correct Values!\")\n",
    "    else:\n",
    "        exit\n",
    "        \n",
    "    text = clicked1.get()\n",
    "    if text == \"CSE\":\n",
    "        p4=5\n",
    "        print(p4)\n",
    "    elif text == \"ISE\":\n",
    "        p4=4\n",
    "        print(p4)\n",
    "    elif text == \"ECE\":\n",
    "        p4=3\n",
    "        print(p4)\n",
    "    elif text == \"EEE\":\n",
    "        p4=2\n",
    "        print(p4)\n",
    "    elif text == \"MECH\":\n",
    "        p4=1\n",
    "        print(p4)\n",
    "    else:\n",
    "        p4=0\n",
    "        print(p4)\n",
    "    \n",
    "    \n",
    "    text = clicked2.get()\n",
    "    if text == \"Yes\":\n",
    "        p5=1\n",
    "        print(p5)\n",
    "    else:\n",
    "        p5=0\n",
    "        print(p6)\n",
    "\n",
    "    text1=clicked3.get()\n",
    "    \n",
    "\n",
    "#Prediction Part\n",
    "    model = joblib.load('model_final')\n",
    "    new_data = pd.DataFrame({\n",
    "    'ssc_p':p1,\n",
    "    'hsc_p':p2,\n",
    "    'BE_p':p3,\n",
    "    'Intern':p5,\n",
    "    'Test_p':p6,\n",
    "    'Branch':p4,\n",
    "},index=[0])\n",
    "    result=model.predict(new_data)\n",
    "    result1=model.predict_proba(new_data)\n",
    "    \n",
    "    if result[0] == 0:\n",
    "        Label(master, text=\"Not Eligible\",font=(\"Ariel\",15),fg='navy',bg='light sea green').grid(row=31)\n",
    "    else:\n",
    "        Label(master, text=\"Student Will be Placed With Probability of\",font=(\"Arial\", 15), bg='light sea green', fg='navy').grid(row=31)\n",
    "        Label(master, text=round(result1[0][1],2)*100,font=(\"Arial\", 15), bg='light sea green', fg='navy').grid(row=33)\n",
    "        Label(master, text=\"Percent in\",font=(\"Arial\", 15), bg='light sea green', fg='navy').grid(row=34)\n",
    "        Label(master, text=text1,font=(\"Ariel, 15\"), bg='light sea green', fg='navy').grid(row=36)\n",
    "        Label(master, text=\"Other Recommended Companies\",font=(\"Times\", 10),bg='light sea green', fg='navy').grid(row=37)\n",
    "\n",
    "#Recommendation Part\n",
    "        input_name=clicked3.get()\n",
    "        cluster=df.loc[df['Company']==input_name,'loc_cluster']\n",
    "        cluster=cluster.iloc[0]\n",
    "        cluster\n",
    "        company=df.loc[df['loc_cluster']==cluster,'Company']\n",
    "        company\n",
    "        for c in range(len(company)):\n",
    "            if company.iloc[c]==input_name:\n",
    "                continue\n",
    "            else:\n",
    "                textbox.insert(END, company.iloc[c]+ '\\n')\n",
    "                textbox.configure(bg='light sea green',fg='white', width=15, height=8)\n",
    "                textbox.grid(row=39)\n",
    "                \n",
    "\n",
    "master = tk.Tk()\n",
    "master.title(\"Campus Placement Prediction and Recommendation System\")\n",
    "master['background'] = 'light sea green'\n",
    "\n",
    "\n",
    "label = Label(master, text = \"Placement Prediction and Recommendations\\nUsing Machine Learning Technique\"\n",
    "                          , relief='ridge', border=10, bg = \"pink\", fg = \"red2\",font=(\"Agency FB\", 25)) \\\n",
    "                               .grid(row=0,columnspan=2)\n",
    "\n",
    "Label(master, text=\"Secondary Education percentage- 10th Grade\",font=(\"Times\", 18),bg='light sea green',fg='white', justify= \"left\").grid(row=1, column=0)\n",
    "Label(master, text=\"Higher Secondary Education percentage- 12th Grade\",font=(\"Times\", 18),bg='light sea green',fg='white', justify= \"left\").grid(row=2)\n",
    "Label(master, text=\"BE Percentage\",font=(\"Times\", 18),bg='light sea green',fg='white').grid(row=3)\n",
    "Label(master, text=\"Branch\",font=(\"Times\", 18),bg='light sea green',fg='white').grid(row=4)\n",
    "Label(master, text=\"Internship\",font=(\"Times\", 18),bg='light sea green',fg='white').grid(row=5)\n",
    "Label(master, text=\"Enter Assesment Percentage\",font=(\"Times\", 18),bg='light sea green',fg='white').grid(row=6)\n",
    "Label(master, text=\"Select your desired company\",font=(\"Times\", 18),bg='light sea green',fg='white').grid(row=7)\n",
    "\n",
    "\n",
    "clicked1 = StringVar()\n",
    "options1 = [\"CSE\",\"ISE\",\"ECE\",\"EEE\",\"MECH\",\"CIVIL\"]\n",
    "\n",
    "clicked2 = StringVar()\n",
    "options2 = [\"Yes\",\"No\"]\n",
    "\n",
    "clicked3 = StringVar()\n",
    "options3 = [\"Amazon\",\"Google\",\"TCS\",\"Wipro\",\"IBM\",\"Apple\",\"Flipkart\",\"Accenture\",\"HP\",\"Deloitte\"]\n",
    "\n",
    "e1=StringVar()\n",
    "e1 = Entry(master)\n",
    "e1.grid(row=1, column=1)\n",
    "\n",
    "e2=StringVar()\n",
    "e2 = Entry(master)\n",
    "e2.grid(row=2, column=1)\n",
    "\n",
    "e3=StringVar()\n",
    "e3 = Entry(master)\n",
    "e3.grid(row=3, column=1)\n",
    "\n",
    "e4 = OptionMenu(master , clicked1 , *options1 )\n",
    "e4.configure(width=13,fg=\"white\",bg=\"slate grey\")\n",
    "e4.grid(row=4, column=1)\n",
    "clicked1.set(\"Select\")\n",
    "\n",
    "e5 = OptionMenu(master , clicked2 , *options2)\n",
    "e5.configure(width=13,fg=\"white\",bg=\"slate grey\")\n",
    "e5.grid(row=5, column=1)\n",
    "clicked2.set(\"Select\")\n",
    "\n",
    "e6 = Entry(master)\n",
    "e6.grid(row=6, column=1)\n",
    "\n",
    "e7 = OptionMenu(master , clicked3 , *options3 )\n",
    "e7.configure(width=13,fg=\"white\",bg=\"slate gray\")\n",
    "e7.grid(row=7, column=1)\n",
    "clicked3.set(\"Select\")\n",
    "\n",
    "\n",
    "buttonFont = font.Font(family='Helvetica', size=16, weight='bold')\n",
    "Button(master, text='Predict',height= 1, width=8,activebackground='#00ff00',font=buttonFont,bg='green', fg='white',command=show_entry_fields).grid()\n",
    "master.mainloop()"
   ]
  },
  {
   "cell_type": "code",
   "execution_count": null,
   "id": "c7ee6ac9",
   "metadata": {},
   "outputs": [],
   "source": [
    "\n"
   ]
  }
 ],
 "metadata": {
  "kernelspec": {
   "display_name": "Python 3 (ipykernel)",
   "language": "python",
   "name": "python3"
  },
  "language_info": {
   "codemirror_mode": {
    "name": "ipython",
    "version": 3
   },
   "file_extension": ".py",
   "mimetype": "text/x-python",
   "name": "python",
   "nbconvert_exporter": "python",
   "pygments_lexer": "ipython3",
   "version": "3.11.3"
  }
 },
 "nbformat": 4,
 "nbformat_minor": 5
}
